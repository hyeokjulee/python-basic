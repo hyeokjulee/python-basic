{
  "nbformat": 4,
  "nbformat_minor": 0,
  "metadata": {
    "colab": {
      "provenance": [],
      "authorship_tag": "ABX9TyN49aguQyOZeqvpinzSzfKL",
      "include_colab_link": true
    },
    "kernelspec": {
      "name": "python3",
      "display_name": "Python 3"
    },
    "language_info": {
      "name": "python"
    }
  },
  "cells": [
    {
      "cell_type": "markdown",
      "metadata": {
        "id": "view-in-github",
        "colab_type": "text"
      },
      "source": [
        "<a href=\"https://colab.research.google.com/github/hyeokjulee/pythonbasic/blob/main/PythonDay1.ipynb\" target=\"_parent\"><img src=\"https://colab.research.google.com/assets/colab-badge.svg\" alt=\"Open In Colab\"/></a>"
      ]
    },
    {
      "cell_type": "code",
      "execution_count": null,
      "metadata": {
        "colab": {
          "base_uri": "https://localhost:8080/"
        },
        "id": "sGMFVooik29d",
        "outputId": "991f4c17-0e24-4a25-d3d9-2dbf8ab71818"
      },
      "outputs": [
        {
          "output_type": "stream",
          "name": "stdout",
          "text": [
            "Hello World 한글테스트\n"
          ]
        }
      ],
      "source": [
        "print(\"Hello World 한글테스트\")"
      ]
    },
    {
      "cell_type": "code",
      "source": [
        "# 파이썬은 자바와는 달리 자료형 선언을 하지 않아도 알아서 데이터에 맞게 타입을 자동으로 지정한다. \n",
        "\n",
        "a=20\n",
        "\n",
        "b=\"Hello\"\n",
        "\n",
        "a=\"hi\"\n",
        "\n",
        "print(a)"
      ],
      "metadata": {
        "id": "igem2dp9lQlz",
        "colab": {
          "base_uri": "https://localhost:8080/"
        },
        "outputId": "4bead96c-1246-4897-fad2-bf1eaf151a77"
      },
      "execution_count": null,
      "outputs": [
        {
          "output_type": "stream",
          "name": "stdout",
          "text": [
            "hi\n"
          ]
        }
      ]
    },
    {
      "cell_type": "code",
      "source": [
        "# 정수형 자료형\n",
        "\n",
        "a = 100\n",
        "b = -123\n",
        "c = 0"
      ],
      "metadata": {
        "id": "cESBq1_-4RrX"
      },
      "execution_count": null,
      "outputs": []
    },
    {
      "cell_type": "code",
      "source": [
        "# 실수형 자료형\n",
        "\n",
        "a = 3.14\n",
        "b = -5.16"
      ],
      "metadata": {
        "id": "8ns6-ViJ4UVn"
      },
      "execution_count": null,
      "outputs": []
    },
    {
      "cell_type": "code",
      "source": [
        "# 숫자형 자료형에서의 연산\n",
        "\n",
        "a = 3\n",
        "b = 4\n",
        "\n",
        "# 코랩에서는 print 를 생략해도 알아서 print() 넣어준다. 마지막 에만 넣어준다.  \n",
        "a + b\n",
        "a - b"
      ],
      "metadata": {
        "colab": {
          "base_uri": "https://localhost:8080/"
        },
        "id": "D2cXmmhv4WZ5",
        "outputId": "cba0f2a1-4494-4689-d974-22eb58585858"
      },
      "execution_count": null,
      "outputs": [
        {
          "output_type": "execute_result",
          "data": {
            "text/plain": [
              "-1"
            ]
          },
          "metadata": {},
          "execution_count": 35
        }
      ]
    },
    {
      "cell_type": "code",
      "source": [
        "a + b\n",
        "a - b\n",
        "\n",
        "print(a+b)\n",
        "print(a-b)\n",
        "\n",
        "# print() 구문을 생략하면 마지막 구문만 출력해주기 때문에 전부 출력하고 싶으면\n",
        "# 각각 print() 구문을 다 적어야 한다. 이것은 파이썬의 특징이 아닌 코랩의 특징이다. "
      ],
      "metadata": {
        "colab": {
          "base_uri": "https://localhost:8080/"
        },
        "id": "VFMJ38i64YO_",
        "outputId": "c8e29752-3f42-4586-8908-bba05b137634"
      },
      "execution_count": null,
      "outputs": [
        {
          "output_type": "stream",
          "name": "stdout",
          "text": [
            "7\n",
            "-1\n"
          ]
        }
      ]
    },
    {
      "cell_type": "code",
      "source": [
        "# 나머지 연산자 - 홀수 짝수 배수 확인\n",
        "\n",
        "5 / 2  # 일반적인 나머지 구하기"
      ],
      "metadata": {
        "colab": {
          "base_uri": "https://localhost:8080/"
        },
        "id": "CSxxc24a4diO",
        "outputId": "48d5e097-4193-45a2-ec16-a359d00ed2e9"
      },
      "execution_count": null,
      "outputs": [
        {
          "output_type": "execute_result",
          "data": {
            "text/plain": [
              "2.5"
            ]
          },
          "metadata": {},
          "execution_count": 37
        }
      ]
    },
    {
      "cell_type": "code",
      "source": [
        "5 % 2 \n",
        "\n",
        "# 나눈 결과의 몫은 버리고 나머지만 취한다. \n",
        "# 따라서 어떤수를 2로 나눈 나머지가 0이 나오면 짝수 1이 나오면 홀수"
      ],
      "metadata": {
        "colab": {
          "base_uri": "https://localhost:8080/"
        },
        "id": "6PjzPzcR4gSS",
        "outputId": "47cfa78b-79fd-4f62-e1cf-b6f89ae81788"
      },
      "execution_count": null,
      "outputs": [
        {
          "output_type": "execute_result",
          "data": {
            "text/plain": [
              "1"
            ]
          },
          "metadata": {},
          "execution_count": 38
        }
      ]
    },
    {
      "cell_type": "code",
      "source": [
        "8 % 2\n",
        "# 어떤수 8를 어떤수 2로 나눈 나머지가 0이면 배수이다."
      ],
      "metadata": {
        "colab": {
          "base_uri": "https://localhost:8080/"
        },
        "id": "CTFq3aw44iGr",
        "outputId": "ec4c6dfb-d954-4849-c597-6b3f199f9b58"
      },
      "execution_count": null,
      "outputs": [
        {
          "output_type": "execute_result",
          "data": {
            "text/plain": [
              "0"
            ]
          },
          "metadata": {},
          "execution_count": 39
        }
      ]
    },
    {
      "cell_type": "code",
      "source": [
        "# 문자열 자료형 - 파이썬에서는 \"\"와 ''가 완전히 동일하게 사용된다.\n",
        "\n",
        "# 큰 따옴표\n",
        "\"Hello World\"\n",
        "\n",
        "# 2 작은 따옴표\n",
        "'Hello World'\n",
        "\n",
        "# 3 3중 따옴표 Doc String\n",
        "\"\"\"Hello World\"\"\"\n",
        "'''Hello World'''"
      ],
      "metadata": {
        "colab": {
          "base_uri": "https://localhost:8080/",
          "height": 35
        },
        "id": "TBZ3hAJXtI-G",
        "outputId": "30c40181-c8d8-41c6-b2f8-16d6c6468b76"
      },
      "execution_count": null,
      "outputs": [
        {
          "output_type": "execute_result",
          "data": {
            "text/plain": [
              "'Hello World'"
            ],
            "application/vnd.google.colaboratory.intrinsic+json": {
              "type": "string"
            }
          },
          "metadata": {},
          "execution_count": 40
        }
      ]
    },
    {
      "cell_type": "code",
      "source": [
        "# 파이썬에서는 큰 따옴표와 작은 따옴표에 전혀 차이가 없지만\n",
        "# 아래의 용도로 분리하여 사용된다.\n",
        "\n",
        "\"Python's\"    # 작은 따옴표 하나를 출력하기 위한 용도\n",
        "'say \"Hello\"' # 작은 따옴표 안에서 큰 따옴표를 출력하기 위한 용도"
      ],
      "metadata": {
        "colab": {
          "base_uri": "https://localhost:8080/",
          "height": 35
        },
        "id": "zEaCvIOoweFH",
        "outputId": "db855e73-7f52-48f2-a46d-35fedf6095e5"
      },
      "execution_count": null,
      "outputs": [
        {
          "output_type": "execute_result",
          "data": {
            "text/plain": [
              "'say \"Hello\"'"
            ],
            "application/vnd.google.colaboratory.intrinsic+json": {
              "type": "string"
            }
          },
          "metadata": {},
          "execution_count": 8
        }
      ]
    },
    {
      "cell_type": "code",
      "source": [
        "# \\n 줄바꿈\n",
        "a = \"I love you\\nYou love me?\"\n",
        "print(a)\n",
        "\n",
        "b = \"\"\"I love you\n",
        "You love me?\"\"\"\n",
        "print(b)\n",
        "\n",
        "# 에러 발생\n",
        "# c = \"I love you\n",
        "# You love me \""
      ],
      "metadata": {
        "colab": {
          "base_uri": "https://localhost:8080/"
        },
        "id": "N_XFENupxNEI",
        "outputId": "011a2e93-d6a9-4792-9f49-90ab7563cd44"
      },
      "execution_count": null,
      "outputs": [
        {
          "output_type": "stream",
          "name": "stdout",
          "text": [
            "I love you\n",
            "You love me?\n",
            "I love you\n",
            "You love me?\n"
          ]
        }
      ]
    },
    {
      "cell_type": "code",
      "source": [
        "# 문자열 연산\n",
        "\n",
        "# 파이썬에서는 문자열도 연산이 가능하다. 다른 언어에서는 발견하기 어려운 파이썬만의 독특한 특징이다.\n",
        "# 이런 점들이 바로 파이썬은 우리의 생각을 그대로 반영할 수 있다는 파이썬만의 장점들이다.\n",
        "\n",
        "a = \"I \"\n",
        "b = \"love \"\n",
        "c = \"you\"\n",
        "\n",
        "print(a + b + c)\n",
        "\n",
        "d = \"love \"\n",
        "print(d * 3)\n",
        "\n",
        "e = \"=\"\n",
        "print(e * 30)"
      ],
      "metadata": {
        "colab": {
          "base_uri": "https://localhost:8080/"
        },
        "id": "KHrlaIbiyX9b",
        "outputId": "b2a27f60-ea5f-4f9b-e0a8-53eefdd9a528"
      },
      "execution_count": null,
      "outputs": [
        {
          "output_type": "stream",
          "name": "stdout",
          "text": [
            "I love you\n",
            "love love love \n",
            "==============================\n"
          ]
        }
      ]
    },
    {
      "cell_type": "code",
      "source": [
        "# 문자열 자료형에서 많이 사용되는 함수들...\n",
        "\n",
        "# 1 문자열의 길이 구하기 - len()\n",
        "\n",
        "print(len(\"i love you\")) # 빈칸도 글자 취급한다."
      ],
      "metadata": {
        "colab": {
          "base_uri": "https://localhost:8080/"
        },
        "id": "bgs6FCjr0LNW",
        "outputId": "07c6e7fe-d402-4844-ddc3-2784f9729389"
      },
      "execution_count": null,
      "outputs": [
        {
          "output_type": "execute_result",
          "data": {
            "text/plain": [
              "10"
            ]
          },
          "metadata": {},
          "execution_count": 14
        }
      ]
    },
    {
      "cell_type": "code",
      "source": [
        "# 인덱싱과 슬라이싱 indexing & slicing\n",
        "# 참고로 인덱싱과 슬라이싱은 리스트와 튜플에서도 완전히 동일하게 사용된다.\n",
        "\n",
        "# 인덱싱 - 한 개의 글자 추출\n",
        "a = 'I love You'\n",
        "print(a[0])\n",
        "print(a[9])\n",
        "print(a[-1]) # 마지막 글자 추출은 -1 을 사용한다.\n",
        "print(a[-3])\n",
        "\n",
        "# 슬라이싱 - 여러개의 글자 추출\n",
        "a = 'I love you'\n",
        "print(a[2] + a[3] + a[4] + a[5])\n",
        "print(a[2:6]) # 끝자리를 나타내는 수는 미만을 의미한다.\n",
        "print(a[7:]) # 끝자리를 생략하면 끝까지 출력한다. \n",
        "print(a[:2]) # 시작 자리를 생략하면 처음 즉 0부터 시작한다.\n",
        "print(a[:]) # 모든 자리 생략하면 처음부터 끝까지 출력한다.\n",
        "print(a[7:-1]) # 슬라이싱에서도 - 표기를 사용한다. 역시 미만으로 사용된다."
      ],
      "metadata": {
        "colab": {
          "base_uri": "https://localhost:8080/"
        },
        "id": "dLeZDQ1R0rmV",
        "outputId": "f6490129-0642-474b-cc15-57557c9e7141"
      },
      "execution_count": null,
      "outputs": [
        {
          "output_type": "stream",
          "name": "stdout",
          "text": [
            "I\n",
            "u\n",
            "u\n",
            "Y\n",
            "love\n",
            "love\n",
            "you\n",
            "I \n",
            "I love you\n",
            "yo\n"
          ]
        }
      ]
    },
    {
      "cell_type": "code",
      "source": [
        "# 파이썬에서 출력 방법 총 4가지\n",
        "\n",
        "# 1 문자열 포맷팅 (중요도 하)\n",
        "\n",
        "print(\"I %s you\" % \"love\")\n",
        "print(\"I ate %d apples\" % 5)\n",
        "print(\"I ate %s apples\" % 5)\n",
        "\n",
        "print(\"I %s you, I ate %s apples\" % (\"love\", 5))\n",
        "\n",
        "# 2 format() 포맷 함수 (중요도 하)\n",
        "\n",
        "print(\"I {} you\".format(\"love\"))\n",
        "print(\"I ate {} apples\".format(5))\n",
        "print(\"I ate {} apples\".format(5))\n",
        "\n",
        "print(\"I {} you, I ate {} apples\".format(\"love\", 5))"
      ],
      "metadata": {
        "colab": {
          "base_uri": "https://localhost:8080/"
        },
        "id": "Wl22hNL9758d",
        "outputId": "854e4145-070d-4a11-d2fb-1eeb3fbae1a2"
      },
      "execution_count": 50,
      "outputs": [
        {
          "output_type": "stream",
          "name": "stdout",
          "text": [
            "I love you\n",
            "I ate 5 apples\n",
            "I ate 5 apples\n",
            "I love you, I ate 5 apples\n",
            "I love you\n",
            "I ate 5 apples\n",
            "I ate 5 apples\n",
            "I love you, I ate 5 apples\n"
          ]
        }
      ]
    },
    {
      "cell_type": "code",
      "source": [
        "# 3 f스트링 (중요도 상)\n",
        "\n",
        "a = \"love\"\n",
        "b = 5\n",
        "\n",
        "print(f\"I {a} you\")\n",
        "print(f\"I ate {b} apples\")\n",
        "print(f\"I ate {b} apples\")\n",
        "\n",
        "print(f\"I {a} you, I ate {b} apples\")"
      ],
      "metadata": {
        "colab": {
          "base_uri": "https://localhost:8080/"
        },
        "id": "yy15SaA39yY6",
        "outputId": "be67778e-7c6c-453b-ec76-88f890a79cc0"
      },
      "execution_count": 64,
      "outputs": [
        {
          "output_type": "stream",
          "name": "stdout",
          "text": [
            "I love you\n",
            "I ate 5 apples\n",
            "I ate 5 apples\n",
            "I love you, I ate 5 apples\n",
            "I love you\n",
            "I ate 5 apples\n",
            "I ate 5 apples\n",
            "I love you, I ate 5 apples\n",
            "I love you\n",
            "I ate 5 apples\n",
            "I ate 5 apples\n",
            "I love you, I ate 5 apples\n"
          ]
        }
      ]
    },
    {
      "cell_type": "code",
      "source": [
        "# 4 연산자 사용\n",
        "\n",
        "a = \"love\"\n",
        "b = 5\n",
        "\n",
        "print(\"I \" + a + \" you\")\n",
        "print(\"I ate\" , b , \"apples\")\n",
        "print(\"I ate\" , b , \"apples\")\n",
        "\n",
        "print(\"I \" + a + \" you, I ate\" , b , \"apples\")\n",
        "\n",
        "print(\"I\" , a , \"you\")\n",
        "print(\"I ate\" , b , \"apples\")\n",
        "print(\"I ate\" , b , \"apples\")\n",
        "\n",
        "print(\"I\" , a , \"you, I ate\" , b , \"apples\")"
      ],
      "metadata": {
        "colab": {
          "base_uri": "https://localhost:8080/"
        },
        "id": "e0YHYodMALnV",
        "outputId": "ef326b33-5736-4d0d-a444-43d5dfb8a630"
      },
      "execution_count": 65,
      "outputs": [
        {
          "output_type": "stream",
          "name": "stdout",
          "text": [
            "I love you\n",
            "I ate 5 apples\n",
            "I ate 5 apples\n",
            "I love you, I ate 5 apples\n",
            "I love you\n",
            "I ate 5 apples\n",
            "I ate 5 apples\n",
            "I love you, I ate 5 apples\n"
          ]
        }
      ]
    },
    {
      "cell_type": "code",
      "source": [
        "# 문자열 관련 자주 사용하는 함수 정리\n",
        "\n",
        "# len 문자열의 갯수 확인\n",
        "\n",
        "print(len(\"I love you\")) # 빈칸도 글자로 센다.\n",
        "\n"
      ],
      "metadata": {
        "colab": {
          "base_uri": "https://localhost:8080/"
        },
        "id": "Z63qqMM1AgSm",
        "outputId": "c67f6cce-bdfd-4920-b066-919ca94fede8"
      },
      "execution_count": 66,
      "outputs": [
        {
          "output_type": "stream",
          "name": "stdout",
          "text": [
            "10\n"
          ]
        }
      ]
    }
  ]
}