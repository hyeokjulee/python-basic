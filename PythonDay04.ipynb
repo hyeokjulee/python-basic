{
  "nbformat": 4,
  "nbformat_minor": 0,
  "metadata": {
    "colab": {
      "provenance": [],
      "authorship_tag": "ABX9TyM4NB/Z73sVeEa9mvVGloXq",
      "include_colab_link": true
    },
    "kernelspec": {
      "name": "python3",
      "display_name": "Python 3"
    },
    "language_info": {
      "name": "python"
    }
  },
  "cells": [
    {
      "cell_type": "markdown",
      "metadata": {
        "id": "view-in-github",
        "colab_type": "text"
      },
      "source": [
        "<a href=\"https://colab.research.google.com/github/hyeokjulee/pythonbasic/blob/main/PythonDay04.ipynb\" target=\"_parent\"><img src=\"https://colab.research.google.com/assets/colab-badge.svg\" alt=\"Open In Colab\"/></a>"
      ]
    },
    {
      "cell_type": "code",
      "execution_count": null,
      "metadata": {
        "colab": {
          "base_uri": "https://localhost:8080/"
        },
        "id": "GNlzLjyNQTZX",
        "outputId": "2869982f-b73f-4534-82bd-106e506587fe"
      },
      "outputs": [
        {
          "output_type": "stream",
          "name": "stdout",
          "text": [
            "시간 입력 양식 : **:**\n",
            "시간 입력 : 02:00\n",
            "정각입니다.\n"
          ]
        }
      ],
      "source": [
        "# IF\n",
        "# 1. 사용자로부터 입력받은 시간이 정각인지를 판별하세요\n",
        "# 02:00 정각입니다.\n",
        "# 02:10 정각이 아닙니다.\n",
        "# 11:23 정각이 아닙니다.\n",
        "\n",
        "print(\"시간 입력 양식 : **:**\")\n",
        "time = input(\"시간 입력 : \")\n",
        "\n",
        "if time[-2:] == \"00\":\n",
        "  print(\"정각입니다.\")\n",
        "else:\n",
        "  print(\"정각이 아닙니다.\")"
      ]
    },
    {
      "cell_type": "code",
      "source": [
        "# 2. \n",
        "\n",
        "warn_investment_list = [\"Microsoft\", \"Google\", \"Naver\", \"Kakao\", \"SAMSUNG\", \"LG\"]\n",
        "\n",
        "item = input(\"종목 입력 : \")\n",
        "\n",
        "if item in warn_investment_list:\n",
        "  print(\"위험목록에 있음\")\n",
        "else:\n",
        "  print(\"위험목록에 없음\")"
      ],
      "metadata": {
        "colab": {
          "base_uri": "https://localhost:8080/"
        },
        "id": "lhc5it8aSuKv",
        "outputId": "1c3cc7a4-8dbd-45a2-fea5-88b8f5fcdefd"
      },
      "execution_count": null,
      "outputs": [
        {
          "output_type": "stream",
          "name": "stdout",
          "text": [
            "종목 입력 : Microsoft2\n",
            "위험목록에 없음\n"
          ]
        }
      ]
    },
    {
      "cell_type": "code",
      "source": [
        "# 3. \n",
        "\n",
        "alp = input(\"변경할 알파벳 입력 : \")\n",
        "\n",
        "if alp.isupper():\n",
        "  print(\"변경된 알파벳 : \" + alp.lower())\n",
        "else:\n",
        "  print(\"변경된 알파벳 : \" + alp.upper())"
      ],
      "metadata": {
        "colab": {
          "base_uri": "https://localhost:8080/"
        },
        "id": "2GxJPQhQUD-e",
        "outputId": "d6575ae5-bedb-4787-8490-33c515149998"
      },
      "execution_count": null,
      "outputs": [
        {
          "output_type": "stream",
          "name": "stdout",
          "text": [
            "변경할 알파벳 입력 : 1\n",
            "변경된 알파벳 : 1\n"
          ]
        }
      ]
    },
    {
      "cell_type": "code",
      "source": [
        "# 9.\n",
        "\n",
        "for i in ['dog', 'cat', 'parrot']:\n",
        "  print(i[0].upper() + i[1:])"
      ],
      "metadata": {
        "id": "K4qJDU9nU7IH",
        "colab": {
          "base_uri": "https://localhost:8080/"
        },
        "outputId": "fb3a0b68-74cf-468e-e658-719a984141ff"
      },
      "execution_count": 19,
      "outputs": [
        {
          "output_type": "stream",
          "name": "stdout",
          "text": [
            "Dog\n",
            "Cat\n",
            "Parrot\n"
          ]
        }
      ]
    },
    {
      "cell_type": "code",
      "source": [
        "# 10.\n",
        "\n",
        "for i in ['hello.py', 'ex01.py', 'intro.hwp']:\n",
        "  print(i.split('.')[0])"
      ],
      "metadata": {
        "colab": {
          "base_uri": "https://localhost:8080/"
        },
        "id": "21o6JY3Mirs9",
        "outputId": "5f277c11-7ab0-4d68-d2b8-db0498a27a35"
      },
      "execution_count": 22,
      "outputs": [
        {
          "output_type": "stream",
          "name": "stdout",
          "text": [
            "hello\n",
            "ex01\n",
            "intro\n"
          ]
        }
      ]
    },
    {
      "cell_type": "code",
      "source": [
        "# 11.\n",
        "\n",
        "sum = 0\n",
        "for i in(range(1,11,2)):\n",
        "  sum += i\n",
        "print(sum)"
      ],
      "metadata": {
        "colab": {
          "base_uri": "https://localhost:8080/"
        },
        "id": "FeH9DHLmkLtM",
        "outputId": "3463b160-50a5-4bfb-c2ec-06539e0fd7d3"
      },
      "execution_count": 24,
      "outputs": [
        {
          "output_type": "stream",
          "name": "stdout",
          "text": [
            "25\n"
          ]
        }
      ]
    },
    {
      "cell_type": "code",
      "source": [
        "# 12.\n",
        "\n",
        "my_list = [\"가\", \"나\", \"다\", \"라\"]\n",
        "my_list.reverse();\n",
        "for i in(range(0,len(my_list)-1)):\n",
        "  print(my_list[i], my_list[i+1])"
      ],
      "metadata": {
        "colab": {
          "base_uri": "https://localhost:8080/"
        },
        "id": "Sy-puOqskzUw",
        "outputId": "fe5ff95a-ab2e-4d80-daf9-fdfb8e378679"
      },
      "execution_count": 40,
      "outputs": [
        {
          "output_type": "stream",
          "name": "stdout",
          "text": [
            "라 다\n",
            "다 나\n",
            "나 가\n"
          ]
        }
      ]
    },
    {
      "cell_type": "code",
      "source": [
        "# 13.\n",
        "\n",
        "ohlc = [[\"open\", \"high\", \"low\", \"close\"],\n",
        "        [100, 110, 70, 100],\n",
        "        [200, 210, 180, 190],\n",
        "        [300, 310, 300, 310]]\n",
        "\n",
        "for i in (range(1,len(ohlc))):\n",
        "  print(ohlc[i][3])\n"
      ],
      "metadata": {
        "colab": {
          "base_uri": "https://localhost:8080/"
        },
        "id": "bonqc08wnpAm",
        "outputId": "1bb41e5c-3559-402a-c9c7-5989a9ce2f85"
      },
      "execution_count": 42,
      "outputs": [
        {
          "output_type": "stream",
          "name": "stdout",
          "text": [
            "100\n",
            "190\n",
            "310\n"
          ]
        }
      ]
    },
    {
      "cell_type": "code",
      "source": [
        "# 14.\n",
        "\n",
        "total = 0\n",
        "while total <= 50:\n",
        "  total += int(input('더할 수 입력 : '))\n",
        "print(total)"
      ],
      "metadata": {
        "colab": {
          "base_uri": "https://localhost:8080/"
        },
        "id": "CVko0MR0o9XV",
        "outputId": "6dec30bc-fde6-413a-e1a3-6f6c43236b44"
      },
      "execution_count": 43,
      "outputs": [
        {
          "output_type": "stream",
          "name": "stdout",
          "text": [
            "더할 수 입력 : 50\n",
            "더할 수 입력 : 50\n",
            "100\n"
          ]
        }
      ]
    },
    {
      "cell_type": "code",
      "source": [
        "# 15.\n",
        "\n",
        "num = 0\n",
        "while num <= 5:\n",
        "  num = int(input('수 입력 : '))\n",
        "print(num)"
      ],
      "metadata": {
        "colab": {
          "base_uri": "https://localhost:8080/"
        },
        "id": "BC7rSyt3tjRG",
        "outputId": "2bec8f4a-40e1-4687-c013-15f223a358d4"
      },
      "execution_count": 47,
      "outputs": [
        {
          "output_type": "stream",
          "name": "stdout",
          "text": [
            "수 입력 : 5\n",
            "수 입력 : 4\n",
            "수 입력 : 0\n",
            "수 입력 : 6\n",
            "6\n"
          ]
        }
      ]
    }
  ]
}