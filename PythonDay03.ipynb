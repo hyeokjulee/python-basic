{
  "nbformat": 4,
  "nbformat_minor": 0,
  "metadata": {
    "colab": {
      "provenance": [],
      "toc_visible": true,
      "authorship_tag": "ABX9TyN7oVrgl8kYO/V+gIcISX0h",
      "include_colab_link": true
    },
    "kernelspec": {
      "name": "python3",
      "display_name": "Python 3"
    },
    "language_info": {
      "name": "python"
    }
  },
  "cells": [
    {
      "cell_type": "markdown",
      "metadata": {
        "id": "view-in-github",
        "colab_type": "text"
      },
      "source": [
        "<a href=\"https://colab.research.google.com/github/hyeokjulee/pythonbasic/blob/main/PythonDay03.ipynb\" target=\"_parent\"><img src=\"https://colab.research.google.com/assets/colab-badge.svg\" alt=\"Open In Colab\"/></a>"
      ]
    },
    {
      "cell_type": "code",
      "execution_count": null,
      "metadata": {
        "colab": {
          "base_uri": "https://localhost:8080/"
        },
        "id": "rCZt_rKLHlZS",
        "outputId": "b1403d58-cf7d-4684-da08-096d154ddb7e"
      },
      "outputs": [
        {
          "output_type": "stream",
          "name": "stdout",
          "text": [
            "11\n"
          ]
        }
      ],
      "source": [
        "# 조건문 if\n",
        "\n",
        "# 조건문은 특정 조건을 만족할 때 실행되는 코드를 제어한다.\n",
        "# 개발하다보면 여러가지 상황을 처리해야하는 경우가 발생한다.\n",
        "# 이때 조건문을 통해 실행되거나 또는 실행되지 않는 코드를 정의할 수 있다.\n",
        "\n",
        "# if 의 기본 문법\n",
        "\n",
        "# 자바에서의 기본 if 문\n",
        "# if (조건식) {\n",
        "#    만족하는 경우;\n",
        "# }\n",
        "\n",
        "# 파이썬에서의 기본 if 문\n",
        "# if 조건식:                              # 조건식 뒤에 : 콜론을 잊지 말자. 중괄호는 사용하지 않는다.\n",
        "#   조건을 만족하는 경우 실행코드         # 파이썬은 들여쓰기에 매우 민감하다.\n",
        "\n",
        "# 조건식에는 항상 언제나 최종값이 True 와 False 만이 올 수 있다.\n",
        "# 다시 한번 강조하지만 만약 들여쓰기를 하지 않으면 오류가 발생된다.\n",
        "\n",
        "x = 11\n",
        "if x == 11:\n",
        "  print(x)"
      ]
    },
    {
      "cell_type": "code",
      "source": [
        "a = int(input('정수를 입력하세요 > '))\n",
        "\n",
        "if a == 5:\n",
        "  print(f'입력한 값은 {a} 입니다.')"
      ],
      "metadata": {
        "colab": {
          "base_uri": "https://localhost:8080/"
        },
        "id": "oGudBTj8KNdL",
        "outputId": "7282ac0a-19ae-4254-8395-5363aac3b246"
      },
      "execution_count": null,
      "outputs": [
        {
          "output_type": "stream",
          "name": "stdout",
          "text": [
            "정수를 입력하세요 > 5\n",
            "입력한 값은 5 입니다.\n"
          ]
        }
      ]
    },
    {
      "cell_type": "code",
      "source": [
        "# 조건식을 여러개 취급해야하는 경우 가능하면 중첩 if 문은 사용하지 말자\n",
        "x = 15\n",
        "\n",
        "if x >= 10:\n",
        "  print('x는 10 이상입니다.')\n",
        "  if x <= 20:\n",
        "    print('x는 20 이하입니다.')\n",
        "  if x == 15:\n",
        "    print('x는 15 입니다.')"
      ],
      "metadata": {
        "colab": {
          "base_uri": "https://localhost:8080/"
        },
        "id": "Ipxj_OKWLUOi",
        "outputId": "2b3a1b5e-371a-48b4-ddc9-7da88f723e9b"
      },
      "execution_count": null,
      "outputs": [
        {
          "output_type": "stream",
          "name": "stdout",
          "text": [
            "x는 10 이상입니다.\n",
            "x는 20 이하입니다.\n",
            "x는 15 입니다.\n"
          ]
        }
      ]
    },
    {
      "cell_type": "code",
      "source": [
        "a = int(input('숫자를 입력하세요'))\n",
        "\n",
        "if a > 5:\n",
        "  print('입력값이 5보다 큽니다.')\n",
        "else :\n",
        "  print('입력값이 5보다 작거나 같습니다.')"
      ],
      "metadata": {
        "colab": {
          "base_uri": "https://localhost:8080/"
        },
        "id": "KywmmxfMMUN7",
        "outputId": "7bcdee3e-13dc-4d54-f892-d36eaf8a36e6"
      },
      "execution_count": null,
      "outputs": [
        {
          "output_type": "stream",
          "name": "stdout",
          "text": [
            "숫자를 입력하세요5\n",
            "입력값이 5보다 작거나 같습니다.\n"
          ]
        }
      ]
    },
    {
      "cell_type": "code",
      "source": [
        "a = int(input('숫자를 입력하세요'))\n",
        "\n",
        "if a > 5:\n",
        "  print('입력값이 5보다 큽니다.')\n",
        "elif a == 5:\n",
        "  print('입력값이 5입니다.')\n",
        "else :\n",
        "  print('입력값이 5보다 작습니다.')"
      ],
      "metadata": {
        "colab": {
          "base_uri": "https://localhost:8080/"
        },
        "id": "zyt9ItE-NRS8",
        "outputId": "f7eab0c8-9581-43fa-f3bf-0ae4edb4dd06"
      },
      "execution_count": null,
      "outputs": [
        {
          "output_type": "stream",
          "name": "stdout",
          "text": [
            "숫자를 입력하세요5\n",
            "입력값이 5입니다.\n"
          ]
        }
      ]
    },
    {
      "cell_type": "code",
      "source": [
        "no = int(input('1부터 5사이의 값을 입력하세요'))\n",
        "\n",
        "if no < 5 and no >= 4: # 양쪽 조건을 동시에 만족\n",
        "  print('입력값은 4입니다.')\n",
        "elif  no < 4 and no >= 3: # 양쪽 조건을 동시에 만족\n",
        "  print('입력값은 3입니다.')\n",
        "elif  no < 3 and no >= 2: # 양쪽 조건을 동시에 만족\n",
        "  print('입력값은 2입니다.')\n",
        "elif  no < 2 and no >= 1: # 양쪽 조건을 동시에 만족\n",
        "  print('입력값은 1입니다.')\n",
        "else:\n",
        "  print('입력값은 5입니다.')"
      ],
      "metadata": {
        "colab": {
          "base_uri": "https://localhost:8080/"
        },
        "id": "K4glRLyFNYo7",
        "outputId": "72924aa7-70b7-4f0d-9d39-f809f868d7ec"
      },
      "execution_count": null,
      "outputs": [
        {
          "output_type": "stream",
          "name": "stdout",
          "text": [
            "1부터 5사이의 값을 입력하세요3\n",
            "입력값이 3입니다.\n"
          ]
        }
      ]
    },
    {
      "cell_type": "code",
      "source": [
        "# q1 월을 입력하세요? 해당 계절을 출력하세요.\n",
        "# 3,4,5 봄 6,7,8 여름 9,10,11 가을 12,1,2 겨울\n",
        "\n",
        "month = int(input('월을 입력하세요'))\n",
        "\n",
        "if 3 <= month <= 5 :\n",
        "  print('봄')\n",
        "elif  6 <= month <= 8 :\n",
        "  print('여름')\n",
        "elif  9 <= month <= 11 :\n",
        "  print('가을')\n",
        "elif  month == 12 or 1 <= month <= 2 :\n",
        "  print('겨울')\n",
        "else:\n",
        "  print('1월부터 12월까지만 있습니다. 다시 하세요.')"
      ],
      "metadata": {
        "colab": {
          "base_uri": "https://localhost:8080/"
        },
        "id": "5bPUsuddPD4C",
        "outputId": "0560e741-696b-4abd-fbfa-aaef4b945bc2"
      },
      "execution_count": null,
      "outputs": [
        {
          "output_type": "stream",
          "name": "stdout",
          "text": [
            "월을 입력하세요10\n",
            "가을\n"
          ]
        }
      ]
    },
    {
      "cell_type": "code",
      "source": [
        "# if statement 조건 구문\n",
        "\n",
        "# 정수 하나를 입력 받아서 그 수가 홀수인지 짝수인지를 알려주는 프로그램을 만드세요.\n",
        "\n",
        "a = int(input('정수 입력 : '))\n",
        "\n",
        "if a % 2 == 0 :\n",
        "  print(f'{a} : 짝수')\n",
        "else:\n",
        "  print(f'{a} : 홀수')"
      ],
      "metadata": {
        "colab": {
          "base_uri": "https://localhost:8080/"
        },
        "id": "qj-NnYDfPD66",
        "outputId": "22a10e19-7b15-4758-fa66-5d2731bfa03e"
      },
      "execution_count": null,
      "outputs": [
        {
          "output_type": "stream",
          "name": "stdout",
          "text": [
            "정수 입력 : 3\n",
            "3 : 홀수\n"
          ]
        }
      ]
    },
    {
      "cell_type": "code",
      "source": [
        "# 조건부 표현식 if expression 조건 표현식\n",
        "# 자바의 삼항연산자와는 달리 if 를 사용하여 표현한다.\n",
        "\n",
        "a = int(input('정수 입력 : '))\n",
        "\n",
        "answer = '짝수' if a % 2 == 0 else '홀수' # True출력값 if 조건식 else False출력값\n",
        "\n",
        "print(f'{a} : {answer}')"
      ],
      "metadata": {
        "colab": {
          "base_uri": "https://localhost:8080/"
        },
        "id": "6zu4diB0PD-D",
        "outputId": "2c7d9d6f-63ff-499e-842b-fbd5653b6952"
      },
      "execution_count": null,
      "outputs": [
        {
          "output_type": "stream",
          "name": "stdout",
          "text": [
            "정수 입력 : 5\n",
            "5 : 홀수\n"
          ]
        }
      ]
    },
    {
      "cell_type": "code",
      "source": [
        "# if 와 in 연산자\n",
        "list1 = ['봄','여름','가을','겨울']\n",
        "\n",
        "input1 = input('어느 계절을 좋아하시나요?')\n",
        "\n",
        "if input1 in list1:\n",
        "  print(f'{input1}은 여행 가능한 계절입니다.')\n",
        "else:\n",
        "  print(f'{input1}은 여행이 불가능한 계절입니다.')"
      ],
      "metadata": {
        "colab": {
          "base_uri": "https://localhost:8080/"
        },
        "id": "qs1eMjEAW2g5",
        "outputId": "d7983661-8958-4bfe-b322-211ee0a6b5b0"
      },
      "execution_count": null,
      "outputs": [
        {
          "output_type": "stream",
          "name": "stdout",
          "text": [
            "어느 계절을 좋아하시나요?봄\n",
            "봄은 여행 가능한 계절입니다.\n"
          ]
        }
      ]
    },
    {
      "cell_type": "code",
      "source": [
        "# 성적을 입력 받아서 59점까지는 F학점\n",
        "# 69점까지는 D학점\n",
        "# 79점까지는 C학점\n",
        "# 89점까지는 B학점\n",
        "# 100점까지는 A학점\n",
        "# '당신의 점수 {}는 {}학점입니다.'\n",
        "\n",
        "num = int(input('점수 입력 : '))\n",
        "\n",
        "if 0 <= num <= 59 :\n",
        "  alp = 'F'\n",
        "elif num <= 69 :\n",
        "  alp = 'D'\n",
        "elif num <= 79 :\n",
        "  alp = 'C'\n",
        "elif num <= 89 :\n",
        "  alp = 'B'\n",
        "elif num <= 100 :\n",
        "  alp = 'A'\n",
        "else:\n",
        "  alp = 'x'\n",
        "\n",
        "if alp != 'x':\n",
        "  print(f'당신의 점수 {num}는 {alp}학점입니다.')\n",
        "else:\n",
        "  print('점수는 0 ~ 100 으로 입력 바랍니다.')"
      ],
      "metadata": {
        "colab": {
          "base_uri": "https://localhost:8080/"
        },
        "id": "MC6jNi6FX_0Q",
        "outputId": "aed3ffc9-3783-49f1-c5cb-d5d3a107b1b1"
      },
      "execution_count": null,
      "outputs": [
        {
          "output_type": "stream",
          "name": "stdout",
          "text": [
            "점수 입력 : 101\n",
            "점수는 0 ~ 100 으로 입력 바랍니다.\n"
          ]
        }
      ]
    },
    {
      "cell_type": "code",
      "source": [
        "# 반복문 While For\n",
        "\n",
        "# While 은 반복횟수가 불명확할 때 주로 사용되고\n",
        "# For 문은 반복횟수가 명확할 때 주로 사용된다.\n",
        "\n",
        "# 예를 들어 'hi' 10번 반복하여 출력하고자한다.\n",
        "print('hi')\n",
        "print('hi')\n",
        "print('hi')\n",
        "print('hi')\n",
        "print('hi')\n",
        "print('hi')\n",
        "print('hi')\n",
        "print('hi')\n",
        "print('hi')\n",
        "print('hi')\n",
        "\n",
        "# 10번의 경우에는 위와 같이 10번 반복할 수 있다. 하지만 1000번이라면 무모하다."
      ],
      "metadata": {
        "colab": {
          "base_uri": "https://localhost:8080/"
        },
        "id": "PiqmR2nXaeY_",
        "outputId": "33176dfb-20d9-4215-b747-e439f4b94842"
      },
      "execution_count": null,
      "outputs": [
        {
          "output_type": "stream",
          "name": "stdout",
          "text": [
            "hi\n",
            "hi\n",
            "hi\n",
            "hi\n",
            "hi\n",
            "hi\n",
            "hi\n",
            "hi\n",
            "hi\n",
            "hi\n"
          ]
        }
      ]
    },
    {
      "cell_type": "code",
      "source": [
        "for i in range(10): \n",
        "  print('hi')\n",
        "\n",
        "# range는 인수 3개가 기본이다. range(start, stop, step)\n",
        "# start 생략가능 - 0에서 시작\n",
        "# step 생략가능 - 1씩 증가"
      ],
      "metadata": {
        "colab": {
          "base_uri": "https://localhost:8080/"
        },
        "id": "EQ8aQMwXbbnQ",
        "outputId": "c132e193-41b4-480d-e9d3-c8f28cfb2001"
      },
      "execution_count": null,
      "outputs": [
        {
          "output_type": "stream",
          "name": "stdout",
          "text": [
            "hi\n",
            "hi\n",
            "hi\n",
            "hi\n",
            "hi\n",
            "hi\n",
            "hi\n",
            "hi\n",
            "hi\n",
            "hi\n",
            "hi\n",
            "hi\n",
            "hi\n",
            "hi\n",
            "hi\n"
          ]
        }
      ]
    },
    {
      "cell_type": "code",
      "source": [
        "list1 = [10,30,20,50]\n",
        "\n",
        "list1.sort()\n",
        "\n",
        "for i in list1:\n",
        "  print(i)"
      ],
      "metadata": {
        "colab": {
          "base_uri": "https://localhost:8080/"
        },
        "id": "RtrgeWVmcrHG",
        "outputId": "c209997a-3e3d-4dab-c483-2c01839b5f42"
      },
      "execution_count": null,
      "outputs": [
        {
          "output_type": "stream",
          "name": "stdout",
          "text": [
            "10\n",
            "20\n",
            "30\n",
            "50\n"
          ]
        }
      ]
    },
    {
      "cell_type": "code",
      "source": [
        "list1 = [10,30,20,50]\n",
        "\n",
        "list1.sort()\n",
        "\n",
        "for i in range(4):\n",
        "  print(list1[i])"
      ],
      "metadata": {
        "colab": {
          "base_uri": "https://localhost:8080/"
        },
        "id": "2kYyfD40dc-X",
        "outputId": "fe236e3d-b3fd-4eb6-eeff-326a3cf7fcfd"
      },
      "execution_count": null,
      "outputs": [
        {
          "output_type": "stream",
          "name": "stdout",
          "text": [
            "10\n",
            "20\n",
            "30\n",
            "50\n"
          ]
        }
      ]
    },
    {
      "cell_type": "code",
      "source": [
        "# 리스트와 for문을 이용하여 1~100까지의 합 구하기\n",
        "\n",
        "numbers = list(range(1, 101))\n",
        "sum = 0\n",
        "\n",
        "for i in numbers:\n",
        "  sum += i\n",
        "\n",
        "print(f'1~100까지의 합 : {sum}')"
      ],
      "metadata": {
        "colab": {
          "base_uri": "https://localhost:8080/"
        },
        "id": "iPwg0IssbEEn",
        "outputId": "a7ba08e1-9e6e-445d-8e02-4a5110c9e734"
      },
      "execution_count": null,
      "outputs": [
        {
          "output_type": "stream",
          "name": "stdout",
          "text": [
            "1~100까지의 합 : 5050\n"
          ]
        }
      ]
    },
    {
      "cell_type": "code",
      "source": [
        "# 2중 for 문\n",
        "\n",
        "for x in range(2,10):\n",
        "  for y in range(1,10):\n",
        "    print(x , \"*\", y, \"=\", x*y )\n",
        "\n",
        "# 단별로 옆으로 한줄로 찍기"
      ],
      "metadata": {
        "colab": {
          "base_uri": "https://localhost:8080/"
        },
        "id": "WKBZ3im6jvg1",
        "outputId": "9a28e3bb-b372-45cc-9978-85261ac0fbed"
      },
      "execution_count": null,
      "outputs": [
        {
          "output_type": "stream",
          "name": "stdout",
          "text": [
            "2 * 1 = 2\n",
            "2 * 2 = 4\n",
            "2 * 3 = 6\n",
            "2 * 4 = 8\n",
            "2 * 5 = 10\n",
            "2 * 6 = 12\n",
            "2 * 7 = 14\n",
            "2 * 8 = 16\n",
            "2 * 9 = 18\n",
            "3 * 1 = 3\n",
            "3 * 2 = 6\n",
            "3 * 3 = 9\n",
            "3 * 4 = 12\n",
            "3 * 5 = 15\n",
            "3 * 6 = 18\n",
            "3 * 7 = 21\n",
            "3 * 8 = 24\n",
            "3 * 9 = 27\n",
            "4 * 1 = 4\n",
            "4 * 2 = 8\n",
            "4 * 3 = 12\n",
            "4 * 4 = 16\n",
            "4 * 5 = 20\n",
            "4 * 6 = 24\n",
            "4 * 7 = 28\n",
            "4 * 8 = 32\n",
            "4 * 9 = 36\n",
            "5 * 1 = 5\n",
            "5 * 2 = 10\n",
            "5 * 3 = 15\n",
            "5 * 4 = 20\n",
            "5 * 5 = 25\n",
            "5 * 6 = 30\n",
            "5 * 7 = 35\n",
            "5 * 8 = 40\n",
            "5 * 9 = 45\n",
            "6 * 1 = 6\n",
            "6 * 2 = 12\n",
            "6 * 3 = 18\n",
            "6 * 4 = 24\n",
            "6 * 5 = 30\n",
            "6 * 6 = 36\n",
            "6 * 7 = 42\n",
            "6 * 8 = 48\n",
            "6 * 9 = 54\n",
            "7 * 1 = 7\n",
            "7 * 2 = 14\n",
            "7 * 3 = 21\n",
            "7 * 4 = 28\n",
            "7 * 5 = 35\n",
            "7 * 6 = 42\n",
            "7 * 7 = 49\n",
            "7 * 8 = 56\n",
            "7 * 9 = 63\n",
            "8 * 1 = 8\n",
            "8 * 2 = 16\n",
            "8 * 3 = 24\n",
            "8 * 4 = 32\n",
            "8 * 5 = 40\n",
            "8 * 6 = 48\n",
            "8 * 7 = 56\n",
            "8 * 8 = 64\n",
            "8 * 9 = 72\n",
            "9 * 1 = 9\n",
            "9 * 2 = 18\n",
            "9 * 3 = 27\n",
            "9 * 4 = 36\n",
            "9 * 5 = 45\n",
            "9 * 6 = 54\n",
            "9 * 7 = 63\n",
            "9 * 8 = 72\n",
            "9 * 9 = 81\n"
          ]
        }
      ]
    },
    {
      "cell_type": "code",
      "source": [
        "for y in range(1,10):\n",
        "  for x in range(2,10):\n",
        "    print(x,\"*\",y,\"=\",x*y,end='\\t')\n",
        "  print()"
      ],
      "metadata": {
        "colab": {
          "base_uri": "https://localhost:8080/"
        },
        "id": "ROYOiQ3FiEno",
        "outputId": "aafdbd0f-58a0-47a6-f499-b8842cc0bcbe"
      },
      "execution_count": null,
      "outputs": [
        {
          "output_type": "stream",
          "name": "stdout",
          "text": [
            "2 * 1 = 2\t3 * 1 = 3\t4 * 1 = 4\t5 * 1 = 5\t6 * 1 = 6\t7 * 1 = 7\t8 * 1 = 8\t9 * 1 = 9\t\n",
            "2 * 2 = 4\t3 * 2 = 6\t4 * 2 = 8\t5 * 2 = 10\t6 * 2 = 12\t7 * 2 = 14\t8 * 2 = 16\t9 * 2 = 18\t\n",
            "2 * 3 = 6\t3 * 3 = 9\t4 * 3 = 12\t5 * 3 = 15\t6 * 3 = 18\t7 * 3 = 21\t8 * 3 = 24\t9 * 3 = 27\t\n",
            "2 * 4 = 8\t3 * 4 = 12\t4 * 4 = 16\t5 * 4 = 20\t6 * 4 = 24\t7 * 4 = 28\t8 * 4 = 32\t9 * 4 = 36\t\n",
            "2 * 5 = 10\t3 * 5 = 15\t4 * 5 = 20\t5 * 5 = 25\t6 * 5 = 30\t7 * 5 = 35\t8 * 5 = 40\t9 * 5 = 45\t\n",
            "2 * 6 = 12\t3 * 6 = 18\t4 * 6 = 24\t5 * 6 = 30\t6 * 6 = 36\t7 * 6 = 42\t8 * 6 = 48\t9 * 6 = 54\t\n",
            "2 * 7 = 14\t3 * 7 = 21\t4 * 7 = 28\t5 * 7 = 35\t6 * 7 = 42\t7 * 7 = 49\t8 * 7 = 56\t9 * 7 = 63\t\n",
            "2 * 8 = 16\t3 * 8 = 24\t4 * 8 = 32\t5 * 8 = 40\t6 * 8 = 48\t7 * 8 = 56\t8 * 8 = 64\t9 * 8 = 72\t\n",
            "2 * 9 = 18\t3 * 9 = 27\t4 * 9 = 36\t5 * 9 = 45\t6 * 9 = 54\t7 * 9 = 63\t8 * 9 = 72\t9 * 9 = 81\t\n"
          ]
        }
      ]
    },
    {
      "cell_type": "code",
      "source": [
        "# While\n",
        "\n",
        "# while 조건식:\n",
        "#   수행시킬 구문\n",
        "\n",
        "# while True: # 조건에 True 따라서 무한 반복\n",
        "#   print('hi')"
      ],
      "metadata": {
        "id": "Z456CSB7j-q5"
      },
      "execution_count": null,
      "outputs": []
    },
    {
      "cell_type": "code",
      "source": [
        "i = 10\n",
        "while i > 5:\n",
        "  print(i)\n",
        "  i -= 1 # 파이썬은 자바처럼 i++ 즉 증감연산자는 사용하지 않는다. i = i + 1"
      ],
      "metadata": {
        "colab": {
          "base_uri": "https://localhost:8080/"
        },
        "id": "VvafYx-IlJwi",
        "outputId": "7bf24c82-6404-499c-de9e-faafd5def2e5"
      },
      "execution_count": null,
      "outputs": [
        {
          "output_type": "stream",
          "name": "stdout",
          "text": [
            "10\n",
            "9\n",
            "8\n",
            "7\n",
            "6\n"
          ]
        }
      ]
    },
    {
      "cell_type": "code",
      "source": [
        "import random\n",
        "\n",
        "temp_no = 0\n",
        "while temp_no != 3: # 3이 나올 때까지 반복하여 난수 발생\n",
        "  temp_no = random.randint(1,6) # 끝 숫자 6도 포함된다. 미만이 아닌 이하\n",
        "\n",
        "  print(f'발생된 난수는 {temp_no}입니다.')\n"
      ],
      "metadata": {
        "colab": {
          "base_uri": "https://localhost:8080/"
        },
        "id": "H2F8xoK8kqXL",
        "outputId": "d6cc78ef-13b4-42d5-e204-d86ff36cce72"
      },
      "execution_count": null,
      "outputs": [
        {
          "output_type": "stream",
          "name": "stdout",
          "text": [
            "발생된 난수는 1입니다.\n",
            "발생된 난수는 4입니다.\n",
            "발생된 난수는 6입니다.\n",
            "발생된 난수는 2입니다.\n",
            "발생된 난수는 5입니다.\n",
            "발생된 난수는 6입니다.\n",
            "발생된 난수는 1입니다.\n",
            "발생된 난수는 2입니다.\n",
            "발생된 난수는 5입니다.\n",
            "발생된 난수는 1입니다.\n",
            "발생된 난수는 2입니다.\n",
            "발생된 난수는 3입니다.\n"
          ]
        }
      ]
    },
    {
      "cell_type": "code",
      "source": [
        "# 난수 발생 정리\n",
        "\n",
        "import random # random 모듈 임포트 후 사용\n",
        "\n",
        "random.random() # 0에서 1미만 실수 float 으로 생성"
      ],
      "metadata": {
        "colab": {
          "base_uri": "https://localhost:8080/"
        },
        "id": "j81LExBqnkDE",
        "outputId": "1f79fd09-fc57-4ec7-ca5e-e7edcbff278c"
      },
      "execution_count": null,
      "outputs": [
        {
          "output_type": "execute_result",
          "data": {
            "text/plain": [
              "0.4148049948570356"
            ]
          },
          "metadata": {},
          "execution_count": 75
        }
      ]
    },
    {
      "cell_type": "code",
      "source": [
        "random.randint(1,10) # 1에서 10이하의 정수 하나 생성"
      ],
      "metadata": {
        "colab": {
          "base_uri": "https://localhost:8080/"
        },
        "id": "odfWYI6CoCKW",
        "outputId": "c64ed758-0a92-4281-9af1-3fedb5688072"
      },
      "execution_count": null,
      "outputs": [
        {
          "output_type": "execute_result",
          "data": {
            "text/plain": [
              "9"
            ]
          },
          "metadata": {},
          "execution_count": 76
        }
      ]
    },
    {
      "cell_type": "code",
      "source": [
        "random.randrange(0,10,2) # 0에서 10 미만 중 2의 배수로 난수 발생"
      ],
      "metadata": {
        "colab": {
          "base_uri": "https://localhost:8080/"
        },
        "id": "5IfgbcR2ogYK",
        "outputId": "32373f27-ad62-4906-c25f-cc3e018aa1fe"
      },
      "execution_count": null,
      "outputs": [
        {
          "output_type": "execute_result",
          "data": {
            "text/plain": [
              "6"
            ]
          },
          "metadata": {},
          "execution_count": 88
        }
      ]
    },
    {
      "cell_type": "code",
      "source": [
        "random.choice(['봄','여름','가을','겨울']) # 리스트의 값들 중 하나를 임의로 선택"
      ],
      "metadata": {
        "colab": {
          "base_uri": "https://localhost:8080/",
          "height": 35
        },
        "id": "Y-dpY47yoc1D",
        "outputId": "dd9cb684-4333-40e6-d8c3-7e2d5d3248e0"
      },
      "execution_count": null,
      "outputs": [
        {
          "output_type": "execute_result",
          "data": {
            "text/plain": [
              "'가을'"
            ],
            "application/vnd.google.colaboratory.intrinsic+json": {
              "type": "string"
            }
          },
          "metadata": {},
          "execution_count": 90
        }
      ]
    },
    {
      "cell_type": "code",
      "source": [
        "random.sample(range(1,46),6) # range 범위 중 임의의 갯수 추출"
      ],
      "metadata": {
        "colab": {
          "base_uri": "https://localhost:8080/"
        },
        "id": "sFZz-TJ3o-kk",
        "outputId": "4b9767da-d620-48c1-bb8c-12417cfb1e82"
      },
      "execution_count": null,
      "outputs": [
        {
          "output_type": "execute_result",
          "data": {
            "text/plain": [
              "[6, 10, 20, 30, 13, 45]"
            ]
          },
          "metadata": {},
          "execution_count": 92
        }
      ]
    },
    {
      "cell_type": "code",
      "source": [
        "list1 = [1,2,3,4,5]\n",
        "\n",
        "random.shuffle(list1)\n",
        "\n",
        "print(list1)"
      ],
      "metadata": {
        "colab": {
          "base_uri": "https://localhost:8080/"
        },
        "id": "6yUQEGWPpR6y",
        "outputId": "1ee4c546-d18a-4e0d-e294-8545db0243a4"
      },
      "execution_count": null,
      "outputs": [
        {
          "output_type": "stream",
          "name": "stdout",
          "text": [
            "[3, 4, 2, 5, 1]\n"
          ]
        }
      ]
    },
    {
      "cell_type": "code",
      "source": [
        "# break 강제로 빠져나가기\n",
        "# continue 이후의 내용은 건너뛰고 다시 반복문으로 돌아가기\n",
        "\n",
        "i = 0\n",
        "\n",
        "while i < 10:\n",
        "  i += 1\n",
        "  if i % 2 == 0:\n",
        "    print(i)"
      ],
      "metadata": {
        "colab": {
          "base_uri": "https://localhost:8080/"
        },
        "id": "6lAPfwm5qT0_",
        "outputId": "c3953191-d129-42bc-8ed4-6478e2d853dc"
      },
      "execution_count": null,
      "outputs": [
        {
          "output_type": "stream",
          "name": "stdout",
          "text": [
            "2\n",
            "4\n",
            "6\n",
            "8\n",
            "10\n"
          ]
        }
      ]
    },
    {
      "cell_type": "code",
      "source": [
        "i = 0\n",
        "\n",
        "while i < 10:\n",
        "  i += 1\n",
        "  if i % 2 == 0:\n",
        "    continue\n",
        "  print(i)\n"
      ],
      "metadata": {
        "colab": {
          "base_uri": "https://localhost:8080/"
        },
        "id": "CbmWO6_PrcVD",
        "outputId": "09ed3510-421f-45e6-b9fa-a1c4c4e82e16"
      },
      "execution_count": null,
      "outputs": [
        {
          "output_type": "stream",
          "name": "stdout",
          "text": [
            "1\n",
            "3\n",
            "5\n",
            "7\n",
            "9\n"
          ]
        }
      ]
    },
    {
      "cell_type": "code",
      "source": [
        "i = 0\n",
        "\n",
        "while True:\n",
        "  i += 1\n",
        "  if i  == 10:\n",
        "    break\n",
        "  print(i)"
      ],
      "metadata": {
        "colab": {
          "base_uri": "https://localhost:8080/"
        },
        "id": "6ImRVdU1r1-s",
        "outputId": "8b25b6af-ff3a-4959-fc2e-cdf543436196"
      },
      "execution_count": null,
      "outputs": [
        {
          "output_type": "stream",
          "name": "stdout",
          "text": [
            "1\n",
            "2\n",
            "3\n",
            "4\n",
            "5\n",
            "6\n",
            "7\n",
            "8\n",
            "9\n"
          ]
        }
      ]
    }
  ]
}