{
  "nbformat": 4,
  "nbformat_minor": 0,
  "metadata": {
    "colab": {
      "provenance": [],
      "authorship_tag": "ABX9TyNEMQyFYQV9t3vG2CTBA+si",
      "include_colab_link": true
    },
    "kernelspec": {
      "name": "python3",
      "display_name": "Python 3"
    },
    "language_info": {
      "name": "python"
    }
  },
  "cells": [
    {
      "cell_type": "markdown",
      "metadata": {
        "id": "view-in-github",
        "colab_type": "text"
      },
      "source": [
        "<a href=\"https://colab.research.google.com/github/hyeokjulee/pythonbasic/blob/main/PythonDay05.ipynb\" target=\"_parent\"><img src=\"https://colab.research.google.com/assets/colab-badge.svg\" alt=\"Open In Colab\"/></a>"
      ]
    },
    {
      "cell_type": "code",
      "execution_count": null,
      "metadata": {
        "id": "nlVl0YtJYTsj"
      },
      "outputs": [],
      "source": [
        "# Function\n",
        "\n",
        "# 자바에서는 오히려 함수가 존재하지 않는다.\n",
        "# 대신에 메서드를 사용한다.\n",
        "# 사실 거의 같지만 메서드는 클래스 내부에서 정의된다.\n",
        "# 자바는 클래스 밖이라는 개념이 존재하지 않기 때문에 함수가 없다.\n",
        "\n",
        "# 파이썬은 클래스 밖의 개념과 클래스 안의 개념이 다 존재하기 때문에\n",
        "# 함수도 메서드도 모두 사용된다.\n",
        "\n",
        "# 함수란?\n",
        "\n",
        "# 믹서기에 딸기를 넣으면 딸기 주스가 바나나를 넣으면 바나나 주스가 만들어진다.\n",
        "# 함수도 이와 같이 입력 값에 따라 다른 실행 결과를 내보낸다.\n",
        "# 특히 파이썬도 자바와 같이 (메서드) 함수를 중요하게 많이 사용된다.\n",
        "\n",
        "# 왜?\n",
        "# 프로그래밍을 하다보면 같은 내용을 반복해서 실행시켜야 할 부분이 상당히 많아진다.\n",
        "# 그때마다 새롭게 만들어서 사용하는 것이 아니라\n",
        "# 한번 범용적으로 만들어서 필요할 때마다 호출하여 사용하면\n",
        "# 프로그램의 흐름도 잘 파악할 수 있고 오류가 어디서 발생하는지도 쉽게 찾을 수 있다."
      ]
    },
    {
      "cell_type": "code",
      "source": [
        "# def 함수명():\n",
        "#   수행구문1\n",
        "#   수행구문2\n",
        "\n",
        "# 함수 정의\n",
        "def add(a,b):\n",
        "  return a+b\n",
        "\n",
        "# 함수 호출\n",
        "print(add(1,2))\n",
        "print(add(3,5))"
      ],
      "metadata": {
        "colab": {
          "base_uri": "https://localhost:8080/"
        },
        "id": "HsKB5LKNeJy-",
        "outputId": "40222630-648c-447a-8937-cfcd9b375dce"
      },
      "execution_count": 2,
      "outputs": [
        {
          "output_type": "stream",
          "name": "stdout",
          "text": [
            "3\n",
            "8\n"
          ]
        }
      ]
    },
    {
      "cell_type": "code",
      "source": [
        "# 매개변수와 인수 (객체와 인스턴스 / 메서드와 함수 / 파라미터와 옵션)\n",
        "# 매개변수와 인수는 혼용하여 사용되는 조금 헷갈릴 수 있는 용어이다.\n",
        "\n",
        "# 매개변수는 함수에 입력으로 전달된 값을 받는 변수를 의미하고\n",
        "# 인수는 함수를 호출할 때 전달하는 입력 값을 의미한다.\n",
        "\n",
        "def add(a,b): # a,b 매개변수\n",
        "  return a+b\n",
        "\n",
        "print(add(1,2)) # 1,2 인수 (진짜 값)\n",
        "print(add(3,5)) # 3,5 인수"
      ],
      "metadata": {
        "id": "n-GqXu6QgsS-"
      },
      "execution_count": null,
      "outputs": []
    },
    {
      "cell_type": "code",
      "source": [
        "# 함수의 4가지 형태\n",
        "\n",
        "# 1. 입력값과 출력값이 모두 존재하는 함수 (*****)\n",
        "# 2. 입력값이 없고 출력값만 존재하는 함수\n",
        "# 3. 입력값은 있고 출력값은 존재하지 않는 함수\n",
        "# 4. 입력값도 없고 출력값도 없는 함수\n",
        "\n",
        "\n",
        "# 1. 입력값과 출력값이 모두 존재하는 함수 (*****)\n",
        "# 함수 정의\n",
        "def add(a,b): # 입력값이 있고\n",
        "  return a+b # 출력값도 있다.\n",
        "\n",
        "# 함수 호출\n",
        "print(add(1,2))\n",
        "print(add(3,5))"
      ],
      "metadata": {
        "id": "P4WUvKTvhpBm"
      },
      "execution_count": null,
      "outputs": []
    },
    {
      "cell_type": "code",
      "source": [
        "# 2. 입력값이 없고 출력값만 존재하는 함수\n",
        "\n",
        "def say():\n",
        "  return 'Hello World'\n",
        "\n",
        "print(say())"
      ],
      "metadata": {
        "colab": {
          "base_uri": "https://localhost:8080/"
        },
        "id": "IEbw_JQVgsXl",
        "outputId": "dfddaa25-71fa-41ab-f355-9b5759db53c0"
      },
      "execution_count": 3,
      "outputs": [
        {
          "output_type": "stream",
          "name": "stdout",
          "text": [
            "Hello World\n"
          ]
        }
      ]
    },
    {
      "cell_type": "code",
      "source": [
        "# 3. 입력값은 있고 출력값은 존재하지 않는 함수\n",
        "\n",
        "def yesinput(name):\n",
        "  print(name,'님 어서오세요')\n",
        "\n",
        "yesinput('홍길동')"
      ],
      "metadata": {
        "colab": {
          "base_uri": "https://localhost:8080/"
        },
        "id": "Egv4kmtLjNB9",
        "outputId": "83d7bd37-ba0d-4e9e-c02e-bab875ae77ab"
      },
      "execution_count": 5,
      "outputs": [
        {
          "output_type": "stream",
          "name": "stdout",
          "text": [
            "홍길동 님 어서오세요\n"
          ]
        }
      ]
    },
    {
      "cell_type": "code",
      "source": [
        "# 4. 입력값도 없고 출력값도 없는 함수\n",
        "\n",
        "def noinnoout():\n",
        "  print('환영합니다.')\n",
        "\n",
        "noinnoout()"
      ],
      "metadata": {
        "colab": {
          "base_uri": "https://localhost:8080/"
        },
        "id": "3GEKFjvdjOqG",
        "outputId": "1fadda85-51e8-4138-d2e6-9d6ff810d625"
      },
      "execution_count": 6,
      "outputs": [
        {
          "output_type": "stream",
          "name": "stdout",
          "text": [
            "환영합니다.\n"
          ]
        }
      ]
    },
    {
      "cell_type": "code",
      "source": [
        "# 매개 변수의 수를 알 수 없을 때, 즉, 몇 개의 매개 변수가 들어올 지 모를 때...\n",
        "# 가변 매개변수\n",
        "\n",
        "def add2(a,b):\n",
        "  return a+b\n",
        "\n",
        "def add2(a,b,c):\n",
        "  return a+b+c\n",
        "\n",
        "def add(*args):\n",
        "  sum = 0\n",
        "  for arg in args:\n",
        "    sum += arg\n",
        "  print(sum)\n",
        "\n",
        "add(3,51,4,13,3)"
      ],
      "metadata": {
        "colab": {
          "base_uri": "https://localhost:8080/"
        },
        "id": "6PKHY82ZkMDm",
        "outputId": "33fd1165-f9dc-4c91-da00-c672200a8485"
      },
      "execution_count": 12,
      "outputs": [
        {
          "output_type": "stream",
          "name": "stdout",
          "text": [
            "74\n"
          ]
        }
      ]
    },
    {
      "cell_type": "code",
      "source": [
        "# 함수의 리턴값은 언제나 하나이다.\n",
        "\n",
        "def addmul(a,b):\n",
        "  return a+b, a*b\n",
        "\n",
        "addmul(2,3)\n",
        "\n",
        "# 결과 값으로 튜플 (5, 6) 출력되었다. 2개가 아닌 튜플 1개로 출력된 것이다."
      ],
      "metadata": {
        "colab": {
          "base_uri": "https://localhost:8080/"
        },
        "id": "u7JVaihboNdk",
        "outputId": "56c97c74-e7f9-41ba-906b-f0a3978c8b87"
      },
      "execution_count": 14,
      "outputs": [
        {
          "output_type": "execute_result",
          "data": {
            "text/plain": [
              "(5, 6)"
            ]
          },
          "metadata": {},
          "execution_count": 14
        }
      ]
    },
    {
      "cell_type": "code",
      "source": [
        "# 매개 변수에 미리 초기값 설정하기\n",
        "\n",
        "def aboutme(name, age, gender=True):\n",
        "  print(f'나의 이름은 {name}입니다.')\n",
        "  print(f'나이는 {age}살 입니다.')\n",
        "  if gender:\n",
        "    print('나의 성별은 남성입니다.')\n",
        "  else:\n",
        "    print('나의 성별은 여성입니다.')\n",
        "\n",
        "aboutme('송중기', 35, True)\n",
        "aboutme('송중기', 35)\n",
        "aboutme('송중기', 35, False)"
      ],
      "metadata": {
        "colab": {
          "base_uri": "https://localhost:8080/"
        },
        "id": "K0gRUObKpsAs",
        "outputId": "4459c652-c609-487d-91ec-c27a3c3e8fc0"
      },
      "execution_count": 18,
      "outputs": [
        {
          "output_type": "stream",
          "name": "stdout",
          "text": [
            "나의 이름은 송중기입니다.\n",
            "나이는 35살 입니다.\n",
            "나의 성별은 남성입니다.\n",
            "나의 이름은 송중기입니다.\n",
            "나이는 35살 입니다.\n",
            "나의 성별은 남성입니다.\n",
            "나의 이름은 송중기입니다.\n",
            "나이는 35살 입니다.\n",
            "나의 성별은 여성입니다.\n"
          ]
        }
      ]
    },
    {
      "cell_type": "code",
      "source": [
        "# 함수 안에서의 변수 효력 범위 (지역변수/전역변수)\n",
        "\n",
        "a = 1\n",
        "\n",
        "def vartest(a):\n",
        "  a += 1 # 2\n",
        "  print(a)\n",
        "\n",
        "vartest(a)\n",
        "print(a)\n"
      ],
      "metadata": {
        "colab": {
          "base_uri": "https://localhost:8080/"
        },
        "id": "8AxhhWEergnB",
        "outputId": "a75d184f-2303-49bd-9fbd-eeba6219869a"
      },
      "execution_count": 21,
      "outputs": [
        {
          "output_type": "stream",
          "name": "stdout",
          "text": [
            "2\n",
            "1\n"
          ]
        }
      ]
    },
    {
      "cell_type": "code",
      "source": [
        "# 클래스 정의\n",
        "class Cal:\n",
        "  pass\n",
        "\n",
        "# 클래스로 인스턴스 생성\n",
        "a = Cal()"
      ],
      "metadata": {
        "id": "K8QSGy9YxhOC"
      },
      "execution_count": null,
      "outputs": []
    },
    {
      "cell_type": "code",
      "source": [
        "result = 0\n",
        "result2 = 0\n",
        "\n",
        "def add(num):\n",
        "  global result\n",
        "  result += num\n",
        "  return result\n",
        "\n",
        "def add2(num):\n",
        "  global result2\n",
        "  result2 += num\n",
        "  return result2\n",
        "\n",
        "print(add(3))\n",
        "print(add(7))\n",
        "print()\n",
        "print(add2(4))\n",
        "print(add2(8))\n",
        "print()\n",
        "print(result)\n",
        "\n",
        "# 똑같은 계산을 하는 계산기들이 각각 다른 결과 값을 유지하고있다.\n",
        "# 계산기 1은 계산기 2에 전혀 영향을 주지 않는다.\n",
        "\n",
        "# 하지만 문제는 계산기가 더 필요해진다면 또 같은 계산기들을 만들어야한다.\n",
        "\n",
        "# 따라서 클래스를 사용하여 계산기를 만들어보자..."
      ],
      "metadata": {
        "colab": {
          "base_uri": "https://localhost:8080/"
        },
        "id": "fTm-GTTS1TqK",
        "outputId": "63d068cc-6a89-4808-80f0-ba87e38aa8cb"
      },
      "execution_count": 26,
      "outputs": [
        {
          "output_type": "stream",
          "name": "stdout",
          "text": [
            "3\n",
            "10\n",
            "\n",
            "4\n",
            "12\n",
            "\n",
            "10\n"
          ]
        }
      ]
    },
    {
      "cell_type": "code",
      "source": [
        "class Cal:\n",
        "  def __init__(self): # 파이썬에서의 생성자\n",
        "    self.result = 0\n",
        "\n",
        "  def add(self, num):\n",
        "    self.result += num\n",
        "    return self.result\n",
        "\n",
        "cal1 = Cal()\n",
        "cal2 = Cal()\n",
        "cal3 = Cal()\n",
        "\n",
        "print(cal1.add(2))\n",
        "print(cal1.add(1))\n",
        "print(cal1.add(3))\n",
        "print()\n",
        "print(cal2.add(5))\n",
        "print(cal2.add(4))\n",
        "print()\n",
        "print(cal3.add(1))\n",
        "print(cal3.add(2))"
      ],
      "metadata": {
        "colab": {
          "base_uri": "https://localhost:8080/"
        },
        "id": "7jpUeV132nXx",
        "outputId": "fa694f6e-2caf-4a63-b4a0-2921c16f9bc3"
      },
      "execution_count": 31,
      "outputs": [
        {
          "output_type": "stream",
          "name": "stdout",
          "text": [
            "2\n",
            "3\n",
            "6\n",
            "\n",
            "5\n",
            "9\n",
            "\n",
            "1\n",
            "3\n"
          ]
        }
      ]
    },
    {
      "cell_type": "code",
      "source": [
        "class Cal:\n",
        "  def __init__(self): # 파이썬에서의 생성자\n",
        "    self.result = 0\n",
        "\n",
        "  def add(self, num):\n",
        "    self.result += num\n",
        "    return self.result\n",
        "\n",
        "  def sub(self, num):\n",
        "    self.result -= num\n",
        "    return self.result\n",
        "\n",
        "cal1 = Cal()\n",
        "cal2 = Cal()\n",
        "cal3 = Cal()\n",
        "\n",
        "print(cal1.add(2))\n",
        "print(cal1.add(1))\n",
        "print(cal1.add(3))\n",
        "print()\n",
        "print(cal2.add(5))\n",
        "print(cal2.add(4))\n",
        "print()\n",
        "print(cal3.sub(1))\n",
        "print(cal3.add(2))\n",
        "\n",
        "# 이미 만들어진 클래스에 새로운 기능이 추가되면 객체들도 그 기능을 모두 사용할 수 있다."
      ],
      "metadata": {
        "colab": {
          "base_uri": "https://localhost:8080/"
        },
        "id": "JwxZAJgW4LMK",
        "outputId": "6b28729f-59a3-4b30-94be-70f1715f04d5"
      },
      "execution_count": 32,
      "outputs": [
        {
          "output_type": "stream",
          "name": "stdout",
          "text": [
            "2\n",
            "3\n",
            "6\n",
            "\n",
            "5\n",
            "9\n",
            "\n",
            "-1\n",
            "1\n"
          ]
        }
      ]
    },
    {
      "cell_type": "code",
      "source": [
        "class BigCal:\n",
        "  def setdata(self, first, second): # self는 호출한 객체의 이름이 온다.\n",
        "    self.first = first\n",
        "    self.second = second\n",
        "  def add(self):\n",
        "    result = self.first + self.second\n",
        "    return result\n",
        "\n",
        "cal1 = BigCal()\n",
        "cal2 = BigCal()\n",
        "\n",
        "cal1.setdata(2,3) # 2가 first 3이 second self는 cal1이 된다.\n",
        "cal2.setdata(4,1) # 4가 fistt 1이 second self는 cal2가 된다.\n",
        "\n",
        "print(cal1.first) # 2\n",
        "print(cal2.first) # 4\n",
        "\n",
        "print(cal1.add())\n",
        "print(cal2.add())"
      ],
      "metadata": {
        "colab": {
          "base_uri": "https://localhost:8080/"
        },
        "id": "-ThZd_nC40hI",
        "outputId": "877241a1-8623-414b-8ee2-253acd39ddfd"
      },
      "execution_count": 42,
      "outputs": [
        {
          "output_type": "stream",
          "name": "stdout",
          "text": [
            "2\n",
            "4\n",
            "5\n",
            "5\n"
          ]
        }
      ]
    },
    {
      "cell_type": "code",
      "source": [
        "class BigCal:\n",
        "  def setdata(self, first, second): # self는 호출한 객체의 이름이 온다.\n",
        "    self.first = first\n",
        "    self.second = second\n",
        "  def add(self):\n",
        "    result = self.first + self.second\n",
        "    return result\n",
        "  def sub(self):\n",
        "    result = self.first - self.second\n",
        "    return result\n",
        "  def mul(self):\n",
        "    result = self.first * self.second\n",
        "    return result\n",
        "  def div(self):\n",
        "    result = self.first / self.second\n",
        "    return result\n",
        "\n",
        "cal1 = BigCal()\n",
        "cal2 = BigCal()\n",
        "\n",
        "cal1.setdata(2,3) # 2가 first 3이 second self는 cal1이 된다.\n",
        "cal2.setdata(4,1) # 4가 fistt 1이 second self는 cal2가 된다.\n",
        "\n",
        "print(cal1.first) # 2\n",
        "print(cal2.first) # 4\n",
        "\n",
        "print(cal1.add())\n",
        "print(cal2.add())\n",
        "\n",
        "print(cal1.sub())\n",
        "print(cal2.sub())\n",
        "\n",
        "print(cal1.mul())\n",
        "print(cal2.mul())\n",
        "\n",
        "print(cal1.div())\n",
        "print(cal2.div())"
      ],
      "metadata": {
        "colab": {
          "base_uri": "https://localhost:8080/"
        },
        "id": "ZUmYi4-b78uH",
        "outputId": "81618d30-3c38-4aab-d0af-f4aaa564c518"
      },
      "execution_count": 43,
      "outputs": [
        {
          "output_type": "stream",
          "name": "stdout",
          "text": [
            "2\n",
            "4\n",
            "5\n",
            "5\n",
            "-1\n",
            "3\n",
            "6\n",
            "4\n",
            "0.6666666666666666\n",
            "4.0\n"
          ]
        }
      ]
    },
    {
      "cell_type": "code",
      "source": [
        "class BigCal:\n",
        "  def __init__(self, first, second): # 생성자\n",
        "    self.first = first\n",
        "    self.second = second\n",
        "# def setdata(self, first, second): # self는 호출한 객체의 이름이 온다.\n",
        "#   self.first = first\n",
        "#   self.second = second\n",
        "  def add(self):\n",
        "    result = self.first + self.second\n",
        "    return result\n",
        "  def sub(self):\n",
        "    result = self.first - self.second\n",
        "    return result\n",
        "  def mul(self):\n",
        "    result = self.first * self.second\n",
        "    return result\n",
        "  def div(self):\n",
        "    result = self.first / self.second\n",
        "    return result\n",
        "\n",
        "# cal1 = BigCal()\n",
        "# cal2 = BigCal()\n",
        "\n",
        "# cal1.setdata(2,3)\n",
        "# cal2.setdata(4,1)\n",
        "\n",
        "cal1 = BigCal(2,3)\n",
        "cal2 = BigCal(4,1)\n",
        "\n",
        "print(cal1.first)\n",
        "print(cal2.first)\n",
        "\n",
        "print(cal1.add())\n",
        "print(cal2.add())\n",
        "\n",
        "print(cal1.sub())\n",
        "print(cal2.sub())\n",
        "\n",
        "print(cal1.mul())\n",
        "print(cal2.mul())\n",
        "\n",
        "print(cal1.div())\n",
        "print(cal2.div())"
      ],
      "metadata": {
        "colab": {
          "base_uri": "https://localhost:8080/"
        },
        "id": "8FeVPwW08zxK",
        "outputId": "16e788bc-dcad-471d-9c1a-37134f6ea6ce"
      },
      "execution_count": 44,
      "outputs": [
        {
          "output_type": "stream",
          "name": "stdout",
          "text": [
            "2\n",
            "4\n",
            "5\n",
            "5\n",
            "-1\n",
            "3\n",
            "6\n",
            "4\n",
            "0.6666666666666666\n",
            "4.0\n"
          ]
        }
      ]
    },
    {
      "cell_type": "code",
      "source": [
        "# 상속 Inheritance\n",
        "# 자바는 다중상속을 지원하지 않는 반면 파이썬은 다중상속을 지원한다."
      ],
      "metadata": {
        "id": "zVBvc1A7-dln"
      },
      "execution_count": null,
      "outputs": []
    }
  ]
}