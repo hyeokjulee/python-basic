{
  "nbformat": 4,
  "nbformat_minor": 0,
  "metadata": {
    "colab": {
      "provenance": [],
      "toc_visible": true,
      "authorship_tag": "ABX9TyP4/XdpZ9G7F2Bw5dkBqtud",
      "include_colab_link": true
    },
    "kernelspec": {
      "name": "python3",
      "display_name": "Python 3"
    },
    "language_info": {
      "name": "python"
    }
  },
  "cells": [
    {
      "cell_type": "markdown",
      "metadata": {
        "id": "view-in-github",
        "colab_type": "text"
      },
      "source": [
        "<a href=\"https://colab.research.google.com/github/hyeokjulee/pythonbasic/blob/main/PythonDay02.ipynb\" target=\"_parent\"><img src=\"https://colab.research.google.com/assets/colab-badge.svg\" alt=\"Open In Colab\"/></a>"
      ]
    },
    {
      "cell_type": "code",
      "execution_count": null,
      "metadata": {
        "colab": {
          "base_uri": "https://localhost:8080/"
        },
        "id": "wY-Lg092go8M",
        "outputId": "7c0ecd19-4c48-4269-8ece-d6e73f2c3d05"
      },
      "outputs": [
        {
          "output_type": "execute_result",
          "data": {
            "text/plain": [
              "2"
            ]
          },
          "metadata": {},
          "execution_count": 1
        }
      ],
      "source": [
        "# 문자열 함수(메서드)\n",
        "\n",
        "\n",
        "#문자 개수 세기 count\n",
        "\n",
        "a = \"school\"\n",
        "a.count('o')"
      ]
    },
    {
      "cell_type": "code",
      "source": [
        "#위치 알아내기 (find) - 만약 없는 문자를 찾는 경우 -1 출력\n",
        "\n",
        "a = \"school\"\n",
        "print(a.find('o'))\n",
        "print(a.find('z'))"
      ],
      "metadata": {
        "colab": {
          "base_uri": "https://localhost:8080/"
        },
        "id": "FPH_fqNVhQ4X",
        "outputId": "0d7ae4e0-0feb-45b7-ba4b-db20d4f1c3f6"
      },
      "execution_count": null,
      "outputs": [
        {
          "output_type": "stream",
          "name": "stdout",
          "text": [
            "3\n",
            "-1\n"
          ]
        }
      ]
    },
    {
      "cell_type": "code",
      "source": [
        "#위치 알아내기 (index) - 만약 없는 문자를 찾는 경우 오류 출력\n",
        "\n",
        "a = \"school\"\n",
        "print(a.index('o'))\n",
        "# print(a.index('z'))"
      ],
      "metadata": {
        "colab": {
          "base_uri": "https://localhost:8080/"
        },
        "id": "Eh_9WyJJhlEQ",
        "outputId": "b48e9e1b-3feb-4382-b564-b960845ee279"
      },
      "execution_count": null,
      "outputs": [
        {
          "output_type": "stream",
          "name": "stdout",
          "text": [
            "3\n"
          ]
        }
      ]
    },
    {
      "cell_type": "code",
      "source": [
        "# 문자 삽입 join\n",
        "\n",
        "print(\" \".join(\"abcd\"))\n",
        "print(\",\".join(\"abcd\"))\n"
      ],
      "metadata": {
        "colab": {
          "base_uri": "https://localhost:8080/"
        },
        "id": "v8Pu6acjiPlf",
        "outputId": "b6f4cbe4-0857-4c0e-a8bc-8ad17b1a21c7"
      },
      "execution_count": null,
      "outputs": [
        {
          "output_type": "stream",
          "name": "stdout",
          "text": [
            "a b c d\n",
            "a,b,c,d\n"
          ]
        }
      ]
    },
    {
      "cell_type": "code",
      "source": [
        "# 대문자로 바꾸기 upper\n",
        "\n",
        "a = 'Hello'\n",
        "\n",
        "a.upper()"
      ],
      "metadata": {
        "colab": {
          "base_uri": "https://localhost:8080/",
          "height": 35
        },
        "id": "ISdv8w-Uilw2",
        "outputId": "55b48c94-8c7e-439a-d650-0197bfefeb37"
      },
      "execution_count": null,
      "outputs": [
        {
          "output_type": "execute_result",
          "data": {
            "text/plain": [
              "'HELLO'"
            ],
            "application/vnd.google.colaboratory.intrinsic+json": {
              "type": "string"
            }
          },
          "metadata": {},
          "execution_count": 16
        }
      ]
    },
    {
      "cell_type": "code",
      "source": [
        "# 소문자로 바꾸기 lower\n",
        "\n",
        "a = 'Hello'\n",
        "\n",
        "a.lower()"
      ],
      "metadata": {
        "colab": {
          "base_uri": "https://localhost:8080/",
          "height": 35
        },
        "id": "mIJIyqx-i4kV",
        "outputId": "7ccdecac-947c-4fbd-b7fe-16eaf0040a9e"
      },
      "execution_count": null,
      "outputs": [
        {
          "output_type": "execute_result",
          "data": {
            "text/plain": [
              "'hello'"
            ],
            "application/vnd.google.colaboratory.intrinsic+json": {
              "type": "string"
            }
          },
          "metadata": {},
          "execution_count": 17
        }
      ]
    },
    {
      "cell_type": "code",
      "source": [
        "# 공백 제거 왼쪽 lstrip\n",
        "a = ' Hello '\n",
        "a.lstrip()"
      ],
      "metadata": {
        "colab": {
          "base_uri": "https://localhost:8080/",
          "height": 35
        },
        "id": "RixrNMKei97m",
        "outputId": "16b5cefa-7ac6-4a94-eb68-eac5215906f6"
      },
      "execution_count": null,
      "outputs": [
        {
          "output_type": "execute_result",
          "data": {
            "text/plain": [
              "'Hello '"
            ],
            "application/vnd.google.colaboratory.intrinsic+json": {
              "type": "string"
            }
          },
          "metadata": {},
          "execution_count": 22
        }
      ]
    },
    {
      "cell_type": "code",
      "source": [
        "# 공백 제거 오른쪽 rstrip\n",
        "a = ' Hello '\n",
        "a.rstrip()"
      ],
      "metadata": {
        "colab": {
          "base_uri": "https://localhost:8080/",
          "height": 35
        },
        "id": "7Mx9FvS4jOM-",
        "outputId": "18cb2577-eb2f-4112-93f3-92a5c90a7dc1"
      },
      "execution_count": null,
      "outputs": [
        {
          "output_type": "execute_result",
          "data": {
            "text/plain": [
              "' Hello'"
            ],
            "application/vnd.google.colaboratory.intrinsic+json": {
              "type": "string"
            }
          },
          "metadata": {},
          "execution_count": 21
        }
      ]
    },
    {
      "cell_type": "code",
      "source": [
        "# 공백 제거 오른쪽/왼쪽 strip\n",
        "a = ' Hello '\n",
        "a.strip()"
      ],
      "metadata": {
        "colab": {
          "base_uri": "https://localhost:8080/",
          "height": 35
        },
        "id": "LnLXJZFKjc2G",
        "outputId": "99f25947-f80e-4d9a-cbed-1705948ecba3"
      },
      "execution_count": null,
      "outputs": [
        {
          "output_type": "execute_result",
          "data": {
            "text/plain": [
              "'Hello'"
            ],
            "application/vnd.google.colaboratory.intrinsic+json": {
              "type": "string"
            }
          },
          "metadata": {},
          "execution_count": 20
        }
      ]
    },
    {
      "cell_type": "code",
      "source": [
        "# 글자 바꾸기 replace\n",
        "\n",
        "a = 'I love you'\n",
        "a.replace('love', 'hate')"
      ],
      "metadata": {
        "colab": {
          "base_uri": "https://localhost:8080/",
          "height": 35
        },
        "id": "O4vCtAeqjm42",
        "outputId": "e23bbd13-b0ae-4c68-e274-88a3ff641acd"
      },
      "execution_count": null,
      "outputs": [
        {
          "output_type": "execute_result",
          "data": {
            "text/plain": [
              "'I hate you'"
            ],
            "application/vnd.google.colaboratory.intrinsic+json": {
              "type": "string"
            }
          },
          "metadata": {},
          "execution_count": 23
        }
      ]
    },
    {
      "cell_type": "code",
      "source": [
        "# 문자열 나누기 split\n",
        "\n",
        "addr = \"서울시 강남구 서초동 1111\"\n",
        "print(addr.split()) # 생략하면 빈칸을 기준으로 분리한다.\n",
        "\n",
        "addr = \"서울시,강남구,서초동,1111\"\n",
        "print(addr.split(',')) # 생략하면 빈칸을 기준으로 분리한다.\n",
        "\n",
        "addr = \"서울시, 강남구, 서초동, 1111\"\n",
        "print(addr.split(', ')) # 생략하면 빈칸을 기준으로 분리한다.\n",
        "print(type(addr.split(', ')))"
      ],
      "metadata": {
        "colab": {
          "base_uri": "https://localhost:8080/"
        },
        "id": "xgfIYgGlj7qG",
        "outputId": "c878d4a7-5aa9-4048-bf96-2553c7a24c7c"
      },
      "execution_count": null,
      "outputs": [
        {
          "output_type": "stream",
          "name": "stdout",
          "text": [
            "['서울시', '강남구', '서초동', '1111']\n",
            "['서울시', '강남구', '서초동', '1111']\n",
            "['서울시', '강남구', '서초동', '1111']\n",
            "<class 'list'>\n"
          ]
        }
      ]
    },
    {
      "cell_type": "code",
      "source": [
        "# LIST, TUPLE, DICT, SET\n",
        "# 여러 데이터들의 묶음 Collection 컬렉션"
      ],
      "metadata": {
        "colab": {
          "base_uri": "https://localhost:8080/"
        },
        "id": "pwTO4hdikmnG",
        "outputId": "415447fe-6314-4f51-be62-288bd088291f"
      },
      "execution_count": null,
      "outputs": [
        {
          "output_type": "stream",
          "name": "stdout",
          "text": [
            "1\n",
            "['b', 'c']\n",
            "b\n",
            "[9, 2, 3]\n",
            "['a', 'b', 'c']\n",
            "['a', 'c']\n",
            "[]\n",
            "[0]\n",
            "[1, 2, 'a', 'b']\n",
            "[1, 2, 'a', 'b', 0]\n"
          ]
        }
      ]
    },
    {
      "cell_type": "code",
      "source": [
        "# LIST \n",
        "#  [] 대괄호로 만든다.\n",
        "#  indexing & slicing 이 가능하다.\n",
        "#  ordered 순서가 있다.\n",
        "#  mutable 수정 가능하다.\n",
        "\n",
        "a = []\n",
        "b = [1,2,3]\n",
        "c = ['a','b','c']\n",
        "d = [1,2,'a','b']\n",
        "\n",
        "print(b[0]) #인덱싱\n",
        "print(c[1:]) #슬라이싱\n",
        "print(d[-1]) #마지막 요소는 -1\n",
        "\n",
        "# a[0] = 9  # a 리스트에는 아무 원소도 없어서 에러 발생\n",
        "b[0] = 9  # b 리스트에는 원소가 있으므로 수정 가능\n",
        "print(b)\n",
        "\n",
        "print(c)\n",
        "del c[1]  # 리스트는 삭제가 가능하다.\n",
        "print(c)\n",
        "\n",
        "print(a)\n",
        "a.append(0)  # 리스트는 삽입이 가능하다.\n",
        "print(a)\n",
        "\n",
        "print(d)\n",
        "d.append(0)  # 리스트는 삽입이 가능하다.\n",
        "print(d)"
      ],
      "metadata": {
        "colab": {
          "base_uri": "https://localhost:8080/"
        },
        "id": "Pu_wOsmWCsvg",
        "outputId": "98cc8f7c-3f5a-4fb8-8558-fca44de2df29"
      },
      "execution_count": null,
      "outputs": [
        {
          "output_type": "stream",
          "name": "stdout",
          "text": [
            "1\n",
            "['b', 'c']\n",
            "b\n",
            "[9, 2, 3]\n",
            "['a', 'b', 'c']\n",
            "['a', 'c']\n",
            "[]\n",
            "[0]\n",
            "[1, 2, 'a', 'b']\n",
            "[1, 2, 'a', 'b', 0]\n"
          ]
        }
      ]
    },
    {
      "cell_type": "code",
      "source": [
        "# 리스트에서 많이 사용되는 함수 정리\n",
        "\n",
        "# 요소 추가 append - 마지막에 요소 추가\n",
        "a.append(0)\n",
        "print(a)\n",
        "a.append('a')\n",
        "print(a)\n",
        "\n",
        "# 요소 추가 insert - 특정 위치를 지정하여 맘대로 요소 추가\n",
        "d = [1,2,3]\n",
        "d.insert(1,4)\n",
        "print(d)\n",
        "\n",
        "# 정렬 sort\n",
        "a = [1,3,2,4]\n",
        "a.sort()\n",
        "print(a)\n",
        "\n",
        "# 뒤집기 reverse\n",
        "a.reverse()\n",
        "print(a)\n",
        "\n",
        "# 인덱스 index\n",
        "a.index(3)\n",
        "# a.index(5)  없는 요소는 에러 발생한다.\n",
        "\n",
        "# 삭제 remove - 중복되는 수는 처음 등장하는 하나만 삭제한다.\n",
        "print()\n",
        "a = [1,2,3,3,5]\n",
        "a.remove(2)\n",
        "print(a)\n",
        "a.remove(3)\n",
        "print(a)\n",
        "\n",
        "# 삭제 pop - 리스트의 마지막 요소를 삭제한다.\n",
        "a = [1,2,3]\n",
        "a.pop()  # 괄호에 값이 없으면 마지막 요소를 하나 삭제\n",
        "print(a)\n",
        "\n",
        "a = [1,2,3]\n",
        "a.pop(0) # 괄호에 값이 있으면 그 요소를 삭제\n",
        "print(a)\n",
        "\n",
        "# 개수 세기 count - 특정 요소의 개수 세기\n",
        "\n",
        "a = [1,2,2,3]\n",
        "print(a.count(2))"
      ],
      "metadata": {
        "colab": {
          "base_uri": "https://localhost:8080/"
        },
        "id": "57isg7pvx-aL",
        "outputId": "554c2e8b-f433-4576-e787-4150897e3667"
      },
      "execution_count": null,
      "outputs": [
        {
          "output_type": "stream",
          "name": "stdout",
          "text": [
            "[1, 2, 2, 3, 0]\n",
            "[1, 2, 2, 3, 0, 'a']\n",
            "[1, 4, 2, 3]\n",
            "[1, 2, 3, 4]\n",
            "[4, 3, 2, 1]\n",
            "\n",
            "[1, 3, 3, 5]\n",
            "[1, 3, 5]\n",
            "[2, 3]\n",
            "[1, 2]\n",
            "2\n"
          ]
        }
      ]
    },
    {
      "cell_type": "code",
      "source": [
        "# TUPLE\n",
        "#  () 소괄호로 만든다.\n",
        "#  immutable 수정이 불가능하다.\n",
        "#  indexing & slicing 이 가능하다.\n",
        "#  ordered 순서가 있다.\n",
        "#  한 개의 요소로 tuple을 만들 때는 (1,) 쉼표를 괜히 넣는다.\n",
        "\n",
        "a = ()\n",
        "b = (1,) # 한 개의 요소로 tuple을 만들 때는 (1,) 쉼표를 괜히 넣는다.\n",
        "c = (1,2,3)\n",
        "d = (1,2,'a','b')\n",
        "\n",
        "# del d[0]  immutable 삭제가 불가능하다.\n",
        "# d[0] = 9  immutable 수정이 불가능하다.\n",
        "# d.append(5)  immutable 삽입이 불가능하다.\n",
        "\n",
        "print(d[0])  # 인덱싱이 가능하다.\n",
        "print(d[0:2])  # 슬라이싱이 가능하다. 마지막은 미만으로 처리한다.\n",
        "\n",
        "print(len(d)) # 튜플 요소의 개수를 반환하는 함수"
      ],
      "metadata": {
        "colab": {
          "base_uri": "https://localhost:8080/"
        },
        "id": "Bca-Dq59u3EV",
        "outputId": "98534d6a-7c50-4837-c151-59bac99cab10"
      },
      "execution_count": null,
      "outputs": [
        {
          "output_type": "stream",
          "name": "stdout",
          "text": [
            "1\n"
          ]
        }
      ]
    },
    {
      "cell_type": "code",
      "source": [
        "# DICT\n",
        "#  {} 중괄호로 만든다.\n",
        "#  mutable 수정 가능하다.\n",
        "#  indexing & slicing 이 불가능하다.\n",
        "#  unordered 순서가 없다.\n",
        "#  키값과 밸류 값으로 데이터가 저장된다.\n",
        "\n",
        "# 세상의 많은 데이터가 키값:밸류값 형태로 표현된다. 이름:홍길동, 나이:20\n",
        "# 이러한 대응 관계를 파이썬에서 데이터를 저장하는 방식을 딕셔너리라고 한다.\n",
        "# 마치 JS 의 JSON 과 상당히 유사한 공통점을 가지고있다.\n",
        "\n",
        "a = {'이름':'홍길동', '나이':20}\n",
        "b = {'이름':'홍길동', '나이':20, '보유코인':['비트코인','에이다','이더리움']}\n",
        "\n",
        "a['키'] = 185  # dict 는 mutable 한 속성으로 삽입이 가능하다.\n",
        "print(a)\n",
        "del a['나이']  # dict 는 mutable 한 속성으로 삭제도 가능하다.\n",
        "print(a)\n",
        "a['키'] = 190  # dict 는 mutable 한 속성으로 수정도 가능하다.\n",
        "print(a)\n",
        "\n",
        "# a[0]  # dict 는 인덱싱이 불가능하다.\n",
        "# a[0:2]  # dict 는 슬라이싱이 불가능하다."
      ],
      "metadata": {
        "colab": {
          "base_uri": "https://localhost:8080/"
        },
        "id": "WB9YX9hY6OI8",
        "outputId": "213e9612-7e4d-4b89-9fe6-be9a54a94242"
      },
      "execution_count": null,
      "outputs": [
        {
          "output_type": "stream",
          "name": "stdout",
          "text": [
            "{'이름': '홍길동', '나이': 20, '키': 185}\n",
            "{'이름': '홍길동', '키': 185}\n",
            "{'이름': '홍길동', '키': 190}\n"
          ]
        }
      ]
    },
    {
      "cell_type": "code",
      "source": [
        "# 딕셔너리에서 많이 사용되는 함수 정리\n",
        "\n",
        "a = {'이름':'홍길동', '나이':20, '보유코인':['비트코인','에이다','이더리움']}\n",
        "\n",
        "# 딕셔너리에서 키값들만 추출\n",
        "print(a.keys())\n",
        "\n",
        "# 딕셔너리에서 밸류값들만 추출\n",
        "print(a.values())\n",
        "\n",
        "# 쌍으로 추출 (튜플 쌍으로 추출)\n",
        "print(a.items())\n",
        "\n",
        "# 키값으로 밸류값 추출\n",
        "print(a.get('이름'))\n",
        "print(a.get('몸무게'))  # 찾는 키값이 없을 때 None 출력한다.\n",
        "\n",
        "# 키값으로 밸류값 추출 (인덱싱이 불가능하기 때문에 꺼낼 때 많이 사용된다.)\n",
        "print(a['이름'])\n",
        "# print(a['몸무게'])  # 찾는 키값이 없을 때 예외 발생된다.\n",
        "\n",
        "# 키가 딕셔너리 안에 있는지 확인\n",
        "print('이름' in a)  # 찾는 키값이 있을 때 true 반환\n",
        "print('몸무게' in a)  # 찾는 키값이 없을 때 false 반환\n"
      ],
      "metadata": {
        "colab": {
          "base_uri": "https://localhost:8080/"
        },
        "id": "K2viwPFM8oeZ",
        "outputId": "7a247d64-7882-4380-f446-512ac76757bf"
      },
      "execution_count": null,
      "outputs": [
        {
          "output_type": "stream",
          "name": "stdout",
          "text": [
            "dict_keys(['이름', '나이', '보유코인'])\n",
            "dict_values(['홍길동', 20, ['비트코인', '에이다', '이더리움']])\n",
            "dict_items([('이름', '홍길동'), ('나이', 20), ('보유코인', ['비트코인', '에이다', '이더리움'])])\n",
            "홍길동\n",
            "None\n",
            "홍길동\n",
            "True\n",
            "False\n"
          ]
        }
      ]
    },
    {
      "cell_type": "code",
      "source": [
        "# SET\n",
        "#  {} 중괄호로 만든다.\n",
        "#  mutable 수정 가능하다.\n",
        "#  indexing & slicing 이 불가능하다.\n",
        "#  unordered 순서가 없다.\n",
        "#  중복데이터를 허용하지 않는다.\n",
        "\n",
        "# a = {}  # 딕셔너리와 셋은 동일하게 {} 를 사용한다. 따라서 빈 값으로 생성할 때는 주의하자.\n",
        "a = set()\n",
        "b = {1,2,3}\n",
        "c = {1,2,'a','b'}\n",
        "d = {1,2,2,2,3,4,4}\n",
        "print(d)\n",
        "\n",
        "a.add(0)  # mutable 삽입 가능하다.\n",
        "print(a)\n",
        "\n",
        "print(c)\n",
        "c.remove(2)  # mutable 삭제 가능하다.\n",
        "print(c)"
      ],
      "metadata": {
        "colab": {
          "base_uri": "https://localhost:8080/"
        },
        "id": "u0gximvju3IC",
        "outputId": "ab309b54-4afc-4f6e-ff3f-5aee9b222ce5"
      },
      "execution_count": null,
      "outputs": [
        {
          "output_type": "stream",
          "name": "stdout",
          "text": [
            "{1, 2, 3, 4}\n",
            "{0}\n",
            "{'a', 1, 2, 'b'}\n",
            "{'a', 1, 'b'}\n"
          ]
        }
      ]
    },
    {
      "cell_type": "code",
      "source": [
        "# 불 Bool 자료형 boolean\n",
        "\n",
        "# 반드시 대문자로 시작한다.\n",
        "\n",
        "a = True\n",
        "b = False\n",
        "c = \"true\"\n",
        "\n",
        "print(type(a))\n",
        "print(type(c))\n",
        "\n",
        "print(1 == 1)\n",
        "print(1 != 1)"
      ],
      "metadata": {
        "colab": {
          "base_uri": "https://localhost:8080/"
        },
        "id": "ZcrezdThEjI2",
        "outputId": "cb90b506-a832-43da-f300-ef632f5da8bc"
      },
      "execution_count": null,
      "outputs": [
        {
          "output_type": "stream",
          "name": "stdout",
          "text": [
            "<class 'bool'>\n",
            "<class 'str'>\n",
            "True\n",
            "False\n"
          ]
        }
      ]
    },
    {
      "cell_type": "code",
      "source": [
        "# 키보드로 입력 받기\n",
        "\n",
        "a = input()\n",
        "print(a)"
      ],
      "metadata": {
        "colab": {
          "base_uri": "https://localhost:8080/"
        },
        "id": "zw2cPNBlFCpI",
        "outputId": "6f73b087-8ab6-4547-ed4d-afd9821b5242"
      },
      "execution_count": null,
      "outputs": [
        {
          "output_type": "stream",
          "name": "stdout",
          "text": [
            "asd\n",
            "asd\n"
          ]
        }
      ]
    },
    {
      "cell_type": "code",
      "source": [
        "a = input(\"지금이 오후인가요?\")\n",
        "print(a)"
      ],
      "metadata": {
        "colab": {
          "base_uri": "https://localhost:8080/"
        },
        "id": "6oTLRhPQFSxV",
        "outputId": "3b785e19-4776-43da-e675-09ef06f69b5c"
      },
      "execution_count": null,
      "outputs": [
        {
          "output_type": "stream",
          "name": "stdout",
          "text": [
            "지금이 오후인가요?네네\n",
            "네네\n"
          ]
        }
      ]
    },
    {
      "cell_type": "code",
      "source": [
        "# 파이썬에서 input은 항상 일단 먼저 모두 문자 취급한다.\n",
        "\n",
        "# a = input(\"지금 몇시인가요?\")\n",
        "# print(a+1)\n",
        "\n",
        "a = int(input(\"지금부터 한시간 뒤는 몇 시 인가요?\"))\n",
        "print(a+1)"
      ],
      "metadata": {
        "colab": {
          "base_uri": "https://localhost:8080/"
        },
        "id": "FRLkHNLgFf12",
        "outputId": "ba8a9320-aae6-47ea-f582-93f03601135a"
      },
      "execution_count": null,
      "outputs": [
        {
          "output_type": "stream",
          "name": "stdout",
          "text": [
            "지금부터 한시간 뒤는 몇 시 인가요?1\n",
            "2\n"
          ]
        }
      ]
    },
    {
      "cell_type": "code",
      "source": [
        "c = ('Korea','USA','India','Japan','Brazil')\n",
        "print(c)\n",
        "a = input(\"인덱스를 추출할 나라 이름 : \")\n",
        "print(c.index(a))"
      ],
      "metadata": {
        "colab": {
          "base_uri": "https://localhost:8080/"
        },
        "id": "D2Wh6Am5GigG",
        "outputId": "09e93284-f7c9-4100-f7a3-07ab0ecf44b3"
      },
      "execution_count": null,
      "outputs": [
        {
          "output_type": "stream",
          "name": "stdout",
          "text": [
            "('Korea', 'USA', 'India', 'Japan', 'Brazil')\n",
            "인덱스를 추출할 나라 이름 : USA\n",
            "1\n"
          ]
        }
      ]
    },
    {
      "cell_type": "code",
      "source": [
        "s = ['헬스', '복싱']\n",
        "a = input(\"좋아하는 스포츠 : \")\n",
        "s.append(a)\n",
        "s.sort()\n",
        "print(s)"
      ],
      "metadata": {
        "colab": {
          "base_uri": "https://localhost:8080/"
        },
        "id": "EMc1uWOoIhCG",
        "outputId": "8c2a5a61-d9fc-4a45-f930-6a08b18caf9e"
      },
      "execution_count": null,
      "outputs": [
        {
          "output_type": "stream",
          "name": "stdout",
          "text": [
            "좋아하는 스포츠 : 수영\n",
            "['복싱', '수영', '헬스']\n"
          ]
        }
      ]
    },
    {
      "cell_type": "code",
      "source": [
        "s = ['국어', '영어', '수학', '체육', '미술', '음악']\n",
        "print(s)\n",
        "a = input(\"싫어하는 과목 : \")\n",
        "s.remove(a)\n",
        "print(s)"
      ],
      "metadata": {
        "colab": {
          "base_uri": "https://localhost:8080/"
        },
        "id": "xvtgvzLbJh5D",
        "outputId": "46eaf89c-6496-4b9c-fcb2-7754630fa576"
      },
      "execution_count": null,
      "outputs": [
        {
          "output_type": "stream",
          "name": "stdout",
          "text": [
            "['국어', '영어', '수학', '체육', '미술', '음악']\n",
            "싫어하는 과목 : 음악\n",
            "['국어', '영어', '수학', '체육', '미술']\n"
          ]
        }
      ]
    },
    {
      "cell_type": "code",
      "source": [
        "dict = {1:input(\"food u like : \"), 2:input(\"food u like : \"), 3:input(\"food u like : \")}\n",
        "print(dict)\n",
        "a = int(input(\"뺄 음식의 번호 : \"))\n",
        "del dict[a]\n",
        "# sort\n",
        "print(dict)"
      ],
      "metadata": {
        "colab": {
          "base_uri": "https://localhost:8080/"
        },
        "id": "_2eV311qKcdD",
        "outputId": "7f81124f-a7e8-4ab6-c104-9fcb1d1af0f7"
      },
      "execution_count": null,
      "outputs": [
        {
          "output_type": "stream",
          "name": "stdout",
          "text": [
            "food u like : 커피\n",
            "food u like : 밥\n",
            "food u like : 라면\n",
            "{1: '커피', 2: '밥', 3: '라면'}\n",
            "뺄 음식의 번호 : 2\n",
            "{1: '커피', 3: '라면'}\n"
          ]
        }
      ]
    },
    {
      "cell_type": "code",
      "source": [
        "c0 = input(\"리스트에 넣을 색 : \")\n",
        "c1 = input(\"리스트에 넣을 색 : \")\n",
        "c2 = input(\"리스트에 넣을 색 : \")\n",
        "c3 = input(\"리스트에 넣을 색 : \")\n",
        "c4 = input(\"리스트에 넣을 색 : \")\n",
        "c5 = input(\"리스트에 넣을 색 : \")\n",
        "c6 = input(\"리스트에 넣을 색 : \")\n",
        "c7 = input(\"리스트에 넣을 색 : \")\n",
        "c8 = input(\"리스트에 넣을 색 : \")\n",
        "c9 = input(\"리스트에 넣을 색 : \")\n",
        "c = [c0, c1, c2, c3, c4, c5, c6, c7, c8, c9]\n",
        "\n",
        "print(\"10가지 색 : \" , c)\n",
        "\n",
        "s1 = int(input(\"처음으로 출력할 인덱스 : \"))\n",
        "s2 = int(input(\"마지막으로 출력할 인덱스 : \")) + 1\n",
        "\n",
        "print(c[s1:s2])"
      ],
      "metadata": {
        "colab": {
          "base_uri": "https://localhost:8080/"
        },
        "id": "DZ3zUzYzN1_0",
        "outputId": "28682325-9228-4823-e9f0-da5ebfeae59c"
      },
      "execution_count": null,
      "outputs": [
        {
          "output_type": "stream",
          "name": "stdout",
          "text": [
            "리스트에 넣을 색 : a\n",
            "리스트에 넣을 색 : b\n",
            "리스트에 넣을 색 : c\n",
            "리스트에 넣을 색 : d\n",
            "리스트에 넣을 색 : e\n",
            "리스트에 넣을 색 : f\n",
            "리스트에 넣을 색 : g\n",
            "리스트에 넣을 색 : h\n",
            "리스트에 넣을 색 : i\n",
            "리스트에 넣을 색 : j\n",
            "10가지 색 :  ['a', 'b', 'c', 'd', 'e', 'f', 'g', 'h', 'i', 'j']\n",
            "출력할 색들의 첫 인덱스 : 5\n",
            "출력할 색들의 끝 인덱스 : 9\n",
            "['f', 'g', 'h', 'i', 'j']\n"
          ]
        }
      ]
    }
  ]
}