{
  "nbformat": 4,
  "nbformat_minor": 0,
  "metadata": {
    "colab": {
      "provenance": [],
      "authorship_tag": "ABX9TyOOBjezZGmSsmPmLtmXUaD5",
      "include_colab_link": true
    },
    "kernelspec": {
      "name": "python3",
      "display_name": "Python 3"
    },
    "language_info": {
      "name": "python"
    }
  },
  "cells": [
    {
      "cell_type": "markdown",
      "metadata": {
        "id": "view-in-github",
        "colab_type": "text"
      },
      "source": [
        "<a href=\"https://colab.research.google.com/github/hyeokjulee/pythonbasic/blob/main/PythonDay06.ipynb\" target=\"_parent\"><img src=\"https://colab.research.google.com/assets/colab-badge.svg\" alt=\"Open In Colab\"/></a>"
      ]
    },
    {
      "cell_type": "code",
      "execution_count": 3,
      "metadata": {
        "colab": {
          "base_uri": "https://localhost:8080/"
        },
        "id": "hmWLmH1RkNjb",
        "outputId": "90458270-0f09-481b-f544-e2e94ae2e5ab"
      },
      "outputs": [
        {
          "output_type": "execute_result",
          "data": {
            "text/plain": [
              "5"
            ]
          },
          "metadata": {},
          "execution_count": 3
        }
      ],
      "source": [
        "# Inheritance  상속\n",
        "\n",
        "# 실세계와 동일한 의미로 사용된다. 마치 재산을 상속받는 것처럼 같은 의미이다. \n",
        "# 즉 다른 클래스의 기능을 물려받아 사용할수 있다. \n",
        "\n",
        "\n",
        "class BigCal:\n",
        "\n",
        "  def __init__(self, first, second):\n",
        "    self.first = first\n",
        "    self.second = second\n",
        "\n",
        "  def add(self):\n",
        "    result = self.first + self.second\n",
        "    return result\n",
        "\n",
        "  def sub(self):\n",
        "    result = self.first - self.second\n",
        "    return result\n",
        "\n",
        "  def mul(self):\n",
        "    result = self.first * self.second\n",
        "    return result\n",
        "\n",
        "  def div(self):\n",
        "    result = self.first / self.second\n",
        "    return result\n",
        "\n",
        "class SmallCal(BigCal):\n",
        "  pass\n",
        "\n",
        "sc1 = SmallCal(3, 2) # sc1은 smallCal로 생성하기 때문에 SmallCal은 BigCal을 상속하기 때문에 BigCal의 생성자의 규칙에 맞게 생성해야한다.\n",
        "\n",
        "sc1.add()"
      ]
    },
    {
      "cell_type": "code",
      "source": [
        "# 왜 상속을 사용할까...\n",
        "\n",
        "# 보통 상속을 사용하면 기존 클래스는 그대로 놔두고 기능을 추가하거나 또는 기존 기능을 변경하고자 할 때 사용된다.\n",
        "\n",
        "class MidCal(BigCal):\n",
        "  def pow(self): # 기존 BigCal 에는 사칙연산만 있었으나 제곱을 계산하는 기능 추가\n",
        "    result = self.first ** self.second\n",
        "    return result\n",
        "\n",
        "cal1 = BigCal(2,3)\n",
        "# cal1.pow()\n",
        "print(cal1.add())\n",
        "\n",
        "cal2 = MidCal(2,3)\n",
        "print(cal2.pow())\n",
        "print(cal2.add())\n",
        "\n",
        "# 상속은 기존 클래스의 내용은 그대로 두고 클래스의 기능을 확장시킬때 주로 사용된다."
      ],
      "metadata": {
        "colab": {
          "base_uri": "https://localhost:8080/"
        },
        "id": "oLG4gfFdk3bP",
        "outputId": "ba61b2be-1504-4c4a-a408-f8198187c7ef"
      },
      "execution_count": 7,
      "outputs": [
        {
          "output_type": "stream",
          "name": "stdout",
          "text": [
            "5\n",
            "8\n",
            "5\n"
          ]
        }
      ]
    },
    {
      "cell_type": "code",
      "source": [
        "# 파이썬 은 자바와는 달리 다중상속을 지원한다.\n",
        "\n",
        "class A():\n",
        "  pass\n",
        "\n",
        "class B():\n",
        "  pass\n",
        "\n",
        "class C(A,B):\n",
        "  pass"
      ],
      "metadata": {
        "id": "gWqbBnd4nhHP"
      },
      "execution_count": null,
      "outputs": []
    },
    {
      "cell_type": "code",
      "source": [
        "# 메서드 오버라이딩\n",
        "\n",
        "class BigCal:\n",
        "\n",
        "  def __init__(self, first, second):\n",
        "    self.first = first\n",
        "    self.second = second\n",
        "\n",
        "  def add(self):\n",
        "    result = self.first + self.second\n",
        "    return result\n",
        "\n",
        "  def sub(self):\n",
        "    result = self.first - self.second\n",
        "    return result\n",
        "\n",
        "  def mul(self):\n",
        "    result = self.first * self.second\n",
        "    return result\n",
        "\n",
        "  def div(self):\n",
        "    result = self.first / self.second\n",
        "    return result\n",
        "\n",
        "a = BigCal(2,3)\n",
        "print(a.div())\n",
        "\n",
        "b = BigCal(2,0)\n",
        "# print(b.div()) # ZeroDivisionError\n",
        "\n",
        "\n",
        "class OkCal(BigCal):\n",
        "  def div(self): # 부모 클래스의 div 메서드가 무시되고 자식의 같은 이름의 메서드가 사용된다.\n",
        "    if self.second == 0:\n",
        "      return 'infinity'\n",
        "    else:\n",
        "      return self.first / self.second\n",
        "\n",
        "print(OkCal(2,3).div())\n",
        "print(OkCal(2,0).div())"
      ],
      "metadata": {
        "colab": {
          "base_uri": "https://localhost:8080/"
        },
        "id": "-YiwZL_kn3zG",
        "outputId": "fb8e37c6-e697-47be-9f63-6585d2da5949"
      },
      "execution_count": 15,
      "outputs": [
        {
          "output_type": "stream",
          "name": "stdout",
          "text": [
            "0.6666666666666666\n",
            "0.6666666666666666\n",
            "infinity\n"
          ]
        }
      ]
    },
    {
      "cell_type": "code",
      "source": [
        "# 클래스 변수 \n",
        "\n",
        "# 객체 변수는 다른 객체들의 영향을 받지 않고 독립적으로 그 값을 유지한다는 \n",
        "# 특징이 있음을 알 수 있었다. 그렇지만 객체변수와는 그 성격이 완전히 다른 클래스 변수도 있다. \n",
        "\n",
        "class Family:\n",
        "  lastname = \"김\"\n",
        "\n",
        "\n",
        "a = Family()\n",
        "b = Family()\n",
        "print(a.lastname)\n",
        "print(b.lastname)\n",
        "print(Family.lastname)"
      ],
      "metadata": {
        "colab": {
          "base_uri": "https://localhost:8080/"
        },
        "id": "hN19VCtoooFp",
        "outputId": "2a2db3c6-0174-462b-f034-b5c4d8e7b6b3"
      },
      "execution_count": 16,
      "outputs": [
        {
          "output_type": "stream",
          "name": "stdout",
          "text": [
            "김\n",
            "김\n",
            "김\n"
          ]
        }
      ]
    },
    {
      "cell_type": "code",
      "source": [
        "Family.lastname = \"박\"\n",
        "print(a.lastname)\n",
        "print(b.lastname)"
      ],
      "metadata": {
        "colab": {
          "base_uri": "https://localhost:8080/"
        },
        "id": "GVM18QNwrbBG",
        "outputId": "12f69fd4-2afc-4804-d705-d593ab199726"
      },
      "execution_count": 17,
      "outputs": [
        {
          "output_type": "stream",
          "name": "stdout",
          "text": [
            "박\n",
            "박\n"
          ]
        }
      ]
    },
    {
      "cell_type": "code",
      "source": [
        "a.lastname = \"이\"\n",
        "print(a.lastname)\n",
        "print(b.lastname)\n",
        "print(Family.lastname)"
      ],
      "metadata": {
        "colab": {
          "base_uri": "https://localhost:8080/"
        },
        "id": "m2xkWz3Hrf-C",
        "outputId": "31ab5b80-f5c6-498e-ea69-065cab3af7df"
      },
      "execution_count": 18,
      "outputs": [
        {
          "output_type": "stream",
          "name": "stdout",
          "text": [
            "이\n",
            "박\n",
            "박\n"
          ]
        }
      ]
    },
    {
      "cell_type": "code",
      "source": [
        "# 예외 처리 Exeption\n",
        "\n",
        "# 프로그램을 만들다 보면 수많은 오류 / 예외 / 에러 가 발생된다. \n",
        "# 오류는 프로그램이 잘못 동작하는 것을 사전에 막아주는 일종의 배려로 볼수도 있다. \n",
        "# 오류 즉 예외를 어떻게 파이썬은 처리하는지 살펴 보자. \n",
        "\n",
        "# 파이썬에서 자주 접하게 되는 예외\n",
        "# ZeroDevisionError  0으로 나누는 예외\n",
        "# IndexError   없는 인덱스를 호출하였을때 발생 "
      ],
      "metadata": {
        "id": "BC8cBo7lsSen"
      },
      "execution_count": null,
      "outputs": []
    },
    {
      "cell_type": "code",
      "source": [
        "# ZeroDevisionError  0으로 나누는 예외\n",
        "4 / 0"
      ],
      "metadata": {
        "colab": {
          "base_uri": "https://localhost:8080/",
          "height": 190
        },
        "id": "jWaS8OfVyxVQ",
        "outputId": "d0696fba-8293-4901-f352-4d81437cc478"
      },
      "execution_count": 19,
      "outputs": [
        {
          "output_type": "error",
          "ename": "ZeroDivisionError",
          "evalue": "ignored",
          "traceback": [
            "\u001b[0;31m---------------------------------------------------------------------------\u001b[0m",
            "\u001b[0;31mZeroDivisionError\u001b[0m                         Traceback (most recent call last)",
            "\u001b[0;32m<ipython-input-19-5965d8945d08>\u001b[0m in \u001b[0;36m<module>\u001b[0;34m\u001b[0m\n\u001b[1;32m      1\u001b[0m \u001b[0;31m# ZeroDevisionError  0으로 나누는 예외\u001b[0m\u001b[0;34m\u001b[0m\u001b[0;34m\u001b[0m\u001b[0;34m\u001b[0m\u001b[0m\n\u001b[0;32m----> 2\u001b[0;31m \u001b[0;36m4\u001b[0m \u001b[0;34m/\u001b[0m \u001b[0;36m0\u001b[0m\u001b[0;34m\u001b[0m\u001b[0;34m\u001b[0m\u001b[0m\n\u001b[0m",
            "\u001b[0;31mZeroDivisionError\u001b[0m: division by zero"
          ]
        }
      ]
    },
    {
      "cell_type": "code",
      "source": [
        "# IndexError   없는 인덱스를 호출하였을때 발생 \n",
        "l1 = [1,2,3,4,5]\n",
        "a[5]"
      ],
      "metadata": {
        "colab": {
          "base_uri": "https://localhost:8080/",
          "height": 209
        },
        "id": "KMcZzZ3_yy0m",
        "outputId": "86636c9e-4167-486a-98a7-767bab752b48"
      },
      "execution_count": 20,
      "outputs": [
        {
          "output_type": "error",
          "ename": "TypeError",
          "evalue": "ignored",
          "traceback": [
            "\u001b[0;31m---------------------------------------------------------------------------\u001b[0m",
            "\u001b[0;31mTypeError\u001b[0m                                 Traceback (most recent call last)",
            "\u001b[0;32m<ipython-input-20-64daad1f8cd8>\u001b[0m in \u001b[0;36m<module>\u001b[0;34m\u001b[0m\n\u001b[1;32m      1\u001b[0m \u001b[0;31m# IndexError   없는 인덱스를 호출하였을때 발생\u001b[0m\u001b[0;34m\u001b[0m\u001b[0;34m\u001b[0m\u001b[0;34m\u001b[0m\u001b[0m\n\u001b[1;32m      2\u001b[0m \u001b[0ml1\u001b[0m \u001b[0;34m=\u001b[0m \u001b[0;34m[\u001b[0m\u001b[0;36m1\u001b[0m\u001b[0;34m,\u001b[0m\u001b[0;36m2\u001b[0m\u001b[0;34m,\u001b[0m\u001b[0;36m3\u001b[0m\u001b[0;34m,\u001b[0m\u001b[0;36m4\u001b[0m\u001b[0;34m,\u001b[0m\u001b[0;36m5\u001b[0m\u001b[0;34m]\u001b[0m\u001b[0;34m\u001b[0m\u001b[0;34m\u001b[0m\u001b[0m\n\u001b[0;32m----> 3\u001b[0;31m \u001b[0ma\u001b[0m\u001b[0;34m[\u001b[0m\u001b[0;36m5\u001b[0m\u001b[0;34m]\u001b[0m\u001b[0;34m\u001b[0m\u001b[0;34m\u001b[0m\u001b[0m\n\u001b[0m",
            "\u001b[0;31mTypeError\u001b[0m: 'Family' object is not subscriptable"
          ]
        }
      ]
    },
    {
      "cell_type": "code",
      "source": [
        "# 파이썬에서의 예외 처리 기본\n",
        "\n",
        "# try:\n",
        "#   수행구문\n",
        "# except:\n",
        "#   예외 발생 시 처리 구문\n",
        "\n",
        "try:\n",
        "  print(4 / 0)\n",
        "except:\n",
        "  print('0으로는 나눌 수 없습니다. ')"
      ],
      "metadata": {
        "colab": {
          "base_uri": "https://localhost:8080/"
        },
        "id": "YZ3hovSpy8hu",
        "outputId": "f009e183-16d5-416e-a2a9-2e82c67474fe"
      },
      "execution_count": 21,
      "outputs": [
        {
          "output_type": "stream",
          "name": "stdout",
          "text": [
            "0으로는 나눌 수 없습니다. \n"
          ]
        }
      ]
    },
    {
      "cell_type": "code",
      "source": [
        "try:\n",
        "  print(4 / 0)\n",
        "except ZeroDivisionError:  # 특정 에러 처리\n",
        "  print('0으로는 나눌 수 없습니다. ')"
      ],
      "metadata": {
        "colab": {
          "base_uri": "https://localhost:8080/"
        },
        "id": "GZGggd0yzD86",
        "outputId": "88013387-8037-462b-be53-738ae8be2130"
      },
      "execution_count": 22,
      "outputs": [
        {
          "output_type": "stream",
          "name": "stdout",
          "text": [
            "0으로는 나눌 수 없습니다. \n"
          ]
        }
      ]
    },
    {
      "cell_type": "code",
      "source": [
        "try:\n",
        "  print(4 / 0)\n",
        "except ZeroDivisionError as e:  # 특정 에러를 e 변수에 담는다.\n",
        "  print(e)"
      ],
      "metadata": {
        "colab": {
          "base_uri": "https://localhost:8080/"
        },
        "id": "M9lKMdsAzJbQ",
        "outputId": "5d4c3c2a-2de1-423e-c224-a296f18ab89e"
      },
      "execution_count": 23,
      "outputs": [
        {
          "output_type": "stream",
          "name": "stdout",
          "text": [
            "division by zero\n"
          ]
        }
      ]
    },
    {
      "cell_type": "code",
      "source": [
        "# finally\n",
        "\n",
        "try:\n",
        "  print(4 / 2)\n",
        "except ZeroDivisionError as e:  # 특정 에러를 e 변수에 담는다.\n",
        "  print(e)\n",
        "finally: # 예외 발생의 여부와는 관계없이 항상 마지막에 거친다.\n",
        "  print('프로그램을 종료합니다.')"
      ],
      "metadata": {
        "colab": {
          "base_uri": "https://localhost:8080/"
        },
        "id": "98iwFjbyzWnK",
        "outputId": "fbec9aa9-48b4-4f3e-fa0b-12e6dba284b3"
      },
      "execution_count": 25,
      "outputs": [
        {
          "output_type": "stream",
          "name": "stdout",
          "text": [
            "2.0\n",
            "프로그램을 종료합니다.\n"
          ]
        }
      ]
    },
    {
      "cell_type": "code",
      "source": [
        "# 여러 예외 처리\n",
        "\n",
        "try:\n",
        "  a = [1,2,3,4,5]\n",
        "  print(a[5])\n",
        "  4/0\n",
        "except ZeroDivisionError as e:\n",
        "  print(e)\n",
        "except IndexError as e:\n",
        "  print(e)\n",
        "\n",
        "# 인덱싱 오류가 먼저 발생했기 때문에 4/0 오류는 아얘 실행도 되지 않는다."
      ],
      "metadata": {
        "colab": {
          "base_uri": "https://localhost:8080/"
        },
        "id": "2yrM1k-rz1pg",
        "outputId": "3d1c7229-d4fd-4bfc-c797-aa11fb4eeb33"
      },
      "execution_count": 29,
      "outputs": [
        {
          "output_type": "stream",
          "name": "stdout",
          "text": [
            "list index out of range\n"
          ]
        }
      ]
    },
    {
      "cell_type": "code",
      "source": [
        "try:\n",
        "  a = [1,2,3,4,5]\n",
        "  print(a[5])\n",
        "  4/0\n",
        "except (ZeroDivisionError, IndexError) as e:\n",
        "  print(e)"
      ],
      "metadata": {
        "colab": {
          "base_uri": "https://localhost:8080/"
        },
        "id": "Q6JK7xmt0ofX",
        "outputId": "4253e971-3f9d-4b0a-bcf1-a26ac5aabfb1"
      },
      "execution_count": 31,
      "outputs": [
        {
          "output_type": "stream",
          "name": "stdout",
          "text": [
            "list index out of range\n"
          ]
        }
      ]
    },
    {
      "cell_type": "code",
      "source": [
        "# try else\n",
        "\n",
        "# try:\n",
        "#   실행구문\n",
        "# except:\n",
        "#   예외 발생시 처리 구문\n",
        "# else:\n",
        "#   오류가 없을 때만 실행되는 구문\n",
        "# finally:\n",
        "#   실행구문\n",
        "\n",
        "# 예외 발생시 try -> except -> Finally\n",
        "# 예외 미발생시 try -> else -> Finally"
      ],
      "metadata": {
        "id": "53B3cPJ91Dmw"
      },
      "execution_count": null,
      "outputs": []
    },
    {
      "cell_type": "code",
      "source": [
        "# 오류 발생시키기\n",
        "\n",
        "class Bird:\n",
        "  def fly(self):\n",
        "    raise NotImplementedError # 파이썬에 미리 정의된 에러로 꼭 작성해야하는 부분이 구현되지 않았을 경우 일부러 예외 상황이 아닌 상태에서도 예외 강제 발생\n",
        "\n",
        "class Eagle(Bird):\n",
        "  pass\n",
        "\n",
        "eagle = Eagle()\n",
        "try:\n",
        "  eagle.fly()\n",
        "except NotImplementedError as e:\n",
        "  print(e)\n"
      ],
      "metadata": {
        "colab": {
          "base_uri": "https://localhost:8080/"
        },
        "id": "hfYQzJN02GgS",
        "outputId": "25b6fba0-63bb-42ef-978e-d278a7af75ae"
      },
      "execution_count": 38,
      "outputs": [
        {
          "output_type": "stream",
          "name": "stdout",
          "text": [
            "\n"
          ]
        }
      ]
    },
    {
      "cell_type": "code",
      "source": [
        "# 예외 만들기\n",
        "\n",
        "class MyError(Exception): # 파이썬 내장 클래스를 상속\n",
        "  pass\n",
        "\n",
        "def say_nick(nick):\n",
        "  if nick == \"바보\":\n",
        "    raise MyError()\n",
        "  print(nick)\n",
        "\n",
        "say_nick(\"천사\")\n",
        "try:\n",
        "  say_nick(\"바보\")\n",
        "except MyError:\n",
        "  print(\"보바\")"
      ],
      "metadata": {
        "colab": {
          "base_uri": "https://localhost:8080/"
        },
        "id": "5ErGhoy63ick",
        "outputId": "18f5718d-7e75-49fb-c56d-51ac584fa416"
      },
      "execution_count": 45,
      "outputs": [
        {
          "output_type": "stream",
          "name": "stdout",
          "text": [
            "천사\n",
            "보바\n"
          ]
        }
      ]
    },
    {
      "cell_type": "code",
      "source": [
        "# q1 사용자에게 숫자를 입력받아서 그 값을 num 이라는 변수에 저장하는 함수를 만드세요\n",
        "#    그리고 num을 사용하여 1 부터 num에 저장된 숫자까지 세는 또 다른 함수를 정의하세요\n",
        "\n",
        "def input_num():\n",
        "  return int(input('숫자 : '))\n",
        "\n",
        "def count(num):\n",
        "  for i in range(1, num + 1):\n",
        "    print(i, end=' ')\n",
        "\n",
        "def main():\n",
        "  num = input_num()\n",
        "  count(num)\n",
        "\n",
        "main()"
      ],
      "metadata": {
        "colab": {
          "base_uri": "https://localhost:8080/"
        },
        "id": "uY2Nrm-w5NES",
        "outputId": "612c1639-34f6-4b50-f20e-e54618b8ef88"
      },
      "execution_count": 48,
      "outputs": [
        {
          "output_type": "stream",
          "name": "stdout",
          "text": [
            "숫자 : 5\n",
            "1 2 3 4 5 "
          ]
        }
      ]
    },
    {
      "cell_type": "code",
      "source": [
        "# 낮은 숫자와 높은 숫자를 입력받아 두 값 사이의 임의의 숫자를 생성하여 comp_num 이라는 변수에 저장하는 함수를 작성하세요.\n",
        "\n",
        "import random\n",
        "\n",
        "def pick_num():\n",
        "  row = int(input('낮은 숫자 : '))\n",
        "  high = int(input('높은 숫자 : '))\n",
        "  return random.randint(row,high)\n",
        "\n",
        "\n",
        "# '하나의 숫자를 생각하세요' 라는 메세지를 출력하고 사용자가 생각한 숫자를 입력받는\n",
        "# first_guess 함수를 정의하세요\n",
        "\n",
        "def first_guess():\n",
        "  print('하나의 숫자를 생각하세요')\n",
        "  num = int(input('생각한 숫자 : '))\n",
        "  return num\n",
        "\n",
        "# 사용자가 입력한 숫자와 comp_num 이 같은지 확인하여 같다면 '정답' 이라는 메세지를 출력하고\n",
        "# 틀리면 그 입력한 값이 너무 낮은지 너무 높은지 알려주고 다시 입력하도록 하여\n",
        "# 숫자를 맞출때까지 계속 반복하는 함수를 만드세요\n",
        "\n",
        "def check_answer(comp_num, guess):\n",
        "  print(comp_num)\n",
        "  if comp_num == guess:\n",
        "    print('정답')\n",
        "  elif comp_num > guess:\n",
        "    print('너무 낮습니다.')\n",
        "    print()\n",
        "    check_answer(comp_num, first_guess())\n",
        "  else:\n",
        "    print('너무 높습니다.')\n",
        "    print()\n",
        "    check_answer(comp_num, first_guess())\n",
        "\n",
        "def main():\n",
        "  check_answer(pick_num(), first_guess())\n",
        "\n",
        "main()"
      ],
      "metadata": {
        "colab": {
          "base_uri": "https://localhost:8080/"
        },
        "id": "1i88qxjG7vDM",
        "outputId": "4c00c160-df0a-478d-ddfb-2e1fc1e2b737"
      },
      "execution_count": 53,
      "outputs": [
        {
          "output_type": "stream",
          "name": "stdout",
          "text": [
            "낮은 숫자 : 2\n",
            "높은 숫자 : 6\n",
            "하나의 숫자를 생각하세요\n",
            "생각한 숫자 : 4\n",
            "3\n",
            "너무 높습니다.\n",
            "하나의 숫자를 생각하세요\n",
            "생각한 숫자 : 5\n",
            "3\n",
            "너무 높습니다.\n",
            "하나의 숫자를 생각하세요\n",
            "생각한 숫자 : 3\n",
            "3\n",
            "정답\n"
          ]
        }
      ]
    },
    {
      "cell_type": "code",
      "source": [
        "mport random\n",
        "\n",
        "def pick_num():\n",
        "  num1 = int(input(\"낮은 숫자를 하나 입력하세요 >\"))\n",
        "  num2 = int(input(\"높은 숫자를 하나 입력하세요 >\"))\n",
        "\n",
        "  comp_num = random.randint(num1, num2)\n",
        "\n",
        "  return comp_num\n",
        "\n",
        "def first_guess():\n",
        "  guess = int(input(\"하나의 숫자를 생각하세요 >\"))\n",
        "  return guess\n",
        "\n",
        "def check_answer(comp_num, guess):\n",
        "  try_again = True\n",
        "  while try_again == True:\n",
        "    if comp_num == guess:\n",
        "      print('정답')\n",
        "      try_again = False\n",
        "    elif comp_num  > guess:\n",
        "      guess = int(input('너무 낮습니다. 다시 시도하세요'))\n",
        "    else:\n",
        "      guess = int(input('너무 높습니다. 다시 시도하세요'))\n",
        "\n",
        "def main():\n",
        "  comp_num = pick_num()\n",
        "  guess = first_guess()\n",
        "  check_answer(comp_num, guess)\n",
        "\n",
        "main()"
      ],
      "metadata": {
        "id": "Er-qLu4kD4rw"
      },
      "execution_count": null,
      "outputs": []
    }
  ]
}